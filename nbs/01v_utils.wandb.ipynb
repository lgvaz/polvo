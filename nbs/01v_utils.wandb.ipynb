{
 "cells": [
  {
   "cell_type": "code",
   "execution_count": null,
   "id": "620a6dca",
   "metadata": {},
   "outputs": [],
   "source": [
    "#|default_exp utils.wandb"
   ]
  },
  {
   "cell_type": "markdown",
   "id": "d828c6ea",
   "metadata": {},
   "source": [
    "# Miscellaneous\n",
    "\n",
    "> Miscellaneous functions."
   ]
  },
  {
   "cell_type": "code",
   "execution_count": null,
   "id": "edb679a6",
   "metadata": {},
   "outputs": [
    {
     "name": "stderr",
     "output_type": "stream",
     "text": [
      "/home/lgvaz/git/polvo/polvo/utils/logging.py:8: TqdmExperimentalWarning: Using `tqdm.autonotebook.tqdm` in notebook mode. Use `tqdm.tqdm` instead to force console mode (e.g. in jupyter console)\n",
      "  from tqdm.autonotebook import tqdm\n"
     ]
    }
   ],
   "source": [
    "#|export\n",
    "from fastcore.all import *\n",
    "import polvo as pv"
   ]
  },
  {
   "cell_type": "code",
   "execution_count": null,
   "id": "86e92c96",
   "metadata": {},
   "outputs": [],
   "source": [
    "#|export\n",
    "class WandbRun:\n",
    "    def __init__(self, run=None, **kwargs):\n",
    "        \"Context manager that finishes run when exiting\"\n",
    "        import wandb\n",
    "        self.run = run or wandb.init(**kwargs)\n",
    "    def __enter__(self): return self.run\n",
    "    def __exit__(self, exc_type, exc_value, traceback): self.run.finish()"
   ]
  },
  {
   "cell_type": "code",
   "execution_count": null,
   "id": "365fe801",
   "metadata": {},
   "outputs": [],
   "source": [
    "#|export\n",
    "def wandb_upload(artifact_name:str, *path:str, project=None, type='dataset', run=None):\n",
    "    \"Uploads files or dir to wandb\"\n",
    "    import wandb\n",
    "    run = run or wandb.init(project=project, job_type=\"data-upload\")\n",
    "    artifact = wandb.Artifact(artifact_name, type=type)\n",
    "    \n",
    "    def _add_file(p): artifact.add_file(p, p)\n",
    "    for p in path:\n",
    "        if Path(p).is_file(): _add_file(p)\n",
    "        else:\n",
    "            for f in pv.get_files(p): _add_file(f)\n",
    "\n",
    "    run.log_artifact(artifact)"
   ]
  },
  {
   "cell_type": "code",
   "execution_count": null,
   "id": "fe390e9c",
   "metadata": {},
   "outputs": [
    {
     "name": "stderr",
     "output_type": "stream",
     "text": [
      "\u001b[34m\u001b[1mwandb\u001b[0m: Currently logged in as: \u001b[33magscard\u001b[0m. Use \u001b[1m`wandb login --relogin`\u001b[0m to force relogin\n"
     ]
    },
    {
     "data": {
      "text/html": [
       "wandb version 0.15.0 is available!  To upgrade, please run:\n",
       " $ pip install wandb --upgrade"
      ],
      "text/plain": [
       "<IPython.core.display.HTML object>"
      ]
     },
     "metadata": {},
     "output_type": "display_data"
    },
    {
     "data": {
      "text/html": [
       "Tracking run with wandb version 0.14.2"
      ],
      "text/plain": [
       "<IPython.core.display.HTML object>"
      ]
     },
     "metadata": {},
     "output_type": "display_data"
    },
    {
     "data": {
      "text/html": [
       "Run data is saved locally in <code>/home/lgvaz/git/polvo/nbs/wandb/run-20230424_153328-dqy4wcia</code>"
      ],
      "text/plain": [
       "<IPython.core.display.HTML object>"
      ]
     },
     "metadata": {},
     "output_type": "display_data"
    },
    {
     "data": {
      "text/html": [
       "Syncing run <strong><a href='https://wandb.ai/agscard/test/runs/dqy4wcia' target=\"_blank\">icy-waterfall-1</a></strong> to <a href='https://wandb.ai/agscard/test' target=\"_blank\">Weights & Biases</a> (<a href='https://wandb.me/run' target=\"_blank\">docs</a>)<br/>"
      ],
      "text/plain": [
       "<IPython.core.display.HTML object>"
      ]
     },
     "metadata": {},
     "output_type": "display_data"
    },
    {
     "data": {
      "text/html": [
       " View project at <a href='https://wandb.ai/agscard/test' target=\"_blank\">https://wandb.ai/agscard/test</a>"
      ],
      "text/plain": [
       "<IPython.core.display.HTML object>"
      ]
     },
     "metadata": {},
     "output_type": "display_data"
    },
    {
     "data": {
      "text/html": [
       " View run at <a href='https://wandb.ai/agscard/test/runs/dqy4wcia' target=\"_blank\">https://wandb.ai/agscard/test/runs/dqy4wcia</a>"
      ],
      "text/plain": [
       "<IPython.core.display.HTML object>"
      ]
     },
     "metadata": {},
     "output_type": "display_data"
    },
    {
     "data": {
      "text/html": [
       "Waiting for W&B process to finish... <strong style=\"color:green\">(success).</strong>"
      ],
      "text/plain": [
       "<IPython.core.display.HTML object>"
      ]
     },
     "metadata": {},
     "output_type": "display_data"
    },
    {
     "data": {
      "text/html": [
       " View run <strong style=\"color:#cdcd00\">icy-waterfall-1</strong> at: <a href='https://wandb.ai/agscard/test/runs/dqy4wcia' target=\"_blank\">https://wandb.ai/agscard/test/runs/dqy4wcia</a><br/>Synced 5 W&B file(s), 0 media file(s), 1 artifact file(s) and 0 other file(s)"
      ],
      "text/plain": [
       "<IPython.core.display.HTML object>"
      ]
     },
     "metadata": {},
     "output_type": "display_data"
    },
    {
     "data": {
      "text/html": [
       "Find logs at: <code>./wandb/run-20230424_153328-dqy4wcia/logs</code>"
      ],
      "text/plain": [
       "<IPython.core.display.HTML object>"
      ]
     },
     "metadata": {},
     "output_type": "display_data"
    }
   ],
   "source": [
    "with WandbRun(project='test', job_type='test') as run:\n",
    "    wandb_upload('test_upload', '01v_utils.wandb.ipynb', run=run)"
   ]
  },
  {
   "cell_type": "code",
   "execution_count": null,
   "id": "9a366509",
   "metadata": {},
   "outputs": [],
   "source": [
    "#|hide\n",
    "from nbdev import nbdev_export\n",
    "nbdev_export()"
   ]
  },
  {
   "cell_type": "code",
   "execution_count": null,
   "id": "ecc96ffa",
   "metadata": {},
   "outputs": [],
   "source": []
  }
 ],
 "metadata": {
  "kernelspec": {
   "display_name": "Python [conda env:allpolvo]",
   "language": "python",
   "name": "conda-env-allpolvo-py"
  }
 },
 "nbformat": 4,
 "nbformat_minor": 5
}
