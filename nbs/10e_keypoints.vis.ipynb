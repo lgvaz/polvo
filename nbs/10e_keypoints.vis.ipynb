{
 "cells": [
  {
   "cell_type": "code",
   "execution_count": null,
   "id": "31a5b4ec",
   "metadata": {},
   "outputs": [],
   "source": [
    "%load_ext autoreload\n",
    "%autoreload 2"
   ]
  },
  {
   "cell_type": "code",
   "execution_count": null,
   "id": "a6c13673",
   "metadata": {},
   "outputs": [],
   "source": [
    "#| default_exp keypoint.vis"
   ]
  },
  {
   "cell_type": "markdown",
   "id": "3873aece",
   "metadata": {},
   "source": [
    "# Visualization\n",
    "\n",
    "> API details."
   ]
  },
  {
   "cell_type": "code",
   "execution_count": null,
   "id": "a0d4bac4",
   "metadata": {},
   "outputs": [
    {
     "name": "stderr",
     "output_type": "stream",
     "text": [
      "/home/michael/git/polvo/polvo/utils/logging.py:8: TqdmExperimentalWarning: Using `tqdm.autonotebook.tqdm` in notebook mode. Use `tqdm.tqdm` instead to force console mode (e.g. in jupyter console)\n",
      "  from tqdm.autonotebook import tqdm\n"
     ]
    }
   ],
   "source": [
    "#| export\n",
    "from fastcore.all import *\n",
    "import PIL\n",
    "import numpy as np\n",
    "import polvo as pv\n",
    "# from typing import Tuple\n",
    "# from PIL import Image, ImageFont\n",
    "from PIL.ImageDraw import ImageDraw\n",
    "# from polvo.bbox import BBox, OBBox, BBoxLabeled, OBBoxLabeled\n",
    "from polvo.keypoint import Keypoints"
   ]
  },
  {
   "cell_type": "code",
   "execution_count": null,
   "id": "d14e34ae",
   "metadata": {},
   "outputs": [],
   "source": [
    "#|export\n",
    "def overlay(image:PIL.Image, keypoints:Keypoints, color:Tuple[int,int,int]=None, dot_radius=None):\n",
    "    \"\"\"Draws a box on an image with a given color.\n",
    "    # Arguments\n",
    "        image     : The image to draw on.\n",
    "        box       : A list of 4 elements (x1, y1, x2, y2).\n",
    "        color     : The color of the box.\n",
    "    \"\"\"\n",
    "    draw = PIL.ImageDraw.Draw(image)\n",
    "    color = color or (255, 50, 50)\n",
    "    \n",
    "    r = dot_radius or int(min(image.size)/100)\n",
    "    for i, (x,y) in enumerate(keypoints.xy_points):\n",
    "        coords = x-r,y-r,x+r,y+r\n",
    "        draw.ellipse(coords, fill=color)\n",
    "        \n",
    "    return image"
   ]
  },
  {
   "cell_type": "code",
   "execution_count": null,
   "id": "abfd6654",
   "metadata": {},
   "outputs": [
    {
     "data": {
      "text/plain": [
       "<AxesSubplot:>"
      ]
     },
     "execution_count": null,
     "metadata": {},
     "output_type": "execute_result"
    },
    {
     "data": {
      "image/png": "[encoded data removed]",
      "text/plain": [
       "<Figure size 432x288 with 1 Axes>"
      ]
     },
     "metadata": {
      "needs_background": "light"
     },
     "output_type": "display_data"
    }
   ],
   "source": [
    "image = PIL.Image.fromarray(np.zeros((300, 512, 3), dtype=np.uint8))\n",
    "image = overlay(image, Keypoints.from_flat([10, 10, 200, 200, 420, 250]))\n",
    "pv.show_image(image)"
   ]
  },
  {
   "cell_type": "code",
   "execution_count": null,
   "id": "0d970056",
   "metadata": {},
   "outputs": [],
   "source": [
    "#| hide\n",
    "from nbdev import nbdev_export\n",
    "nbdev_export()"
   ]
  },
  {
   "cell_type": "code",
   "execution_count": null,
   "id": "39e0302a",
   "metadata": {},
   "outputs": [],
   "source": []
  }
 ],
 "metadata": {
  "kernelspec": {
   "display_name": "conda-env-pokev2.1-py",
   "language": "python",
   "name": "conda-env-pokev2.1-py"
  }
 },
 "nbformat": 4,
 "nbformat_minor": 5
}
