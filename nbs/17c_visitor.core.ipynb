{
 "cells": [
  {
   "cell_type": "code",
   "execution_count": null,
   "id": "423b444d",
   "metadata": {},
   "outputs": [],
   "source": [
    "%load_ext autoreload\n",
    "%autoreload 2"
   ]
  },
  {
   "cell_type": "code",
   "execution_count": null,
   "id": "a6c13673",
   "metadata": {},
   "outputs": [],
   "source": [
    "#|default_exp visitor.core"
   ]
  },
  {
   "cell_type": "markdown",
   "id": "3873aece",
   "metadata": {},
   "source": [
    "# Visitor Core\n",
    "\n",
    "> API details."
   ]
  },
  {
   "cell_type": "code",
   "execution_count": null,
   "id": "b9a3836d",
   "metadata": {},
   "outputs": [],
   "source": [
    "#|export\n",
    "from fastcore.all import *"
   ]
  },
  {
   "cell_type": "code",
   "execution_count": null,
   "id": "cffe298e",
   "metadata": {},
   "outputs": [],
   "source": [
    "#|export\n",
    "class Visitor:\n",
    "    def _visit_image_file(self, image_file, **kwargs): raise NotImplementedError\n",
    "    def _visit_bbox(self, bbox, **kwargs): raise NotImplementedError\n",
    "    def _visit_bbox_labelled(self, bbox, **kwargs): raise NotImplementedError\n",
    "    def _visit_obbox(self, bbox, **kwargs): raise NotImplementedError\n",
    "    def _visit_obbox_labelled(self, obbox, **kwargs): raise NotImplementedError\n",
    "    def _visit_keypoints(self, keypoints, **kwargs): raise NotImplementedError\n",
    "    def _visit_segmask(self, segmask, **kwargs): raise NotImplementedError\n",
    "        \n",
    "    # separating the drawing functions from its call allows us to pass custom arguments to each item\n",
    "    def collect_accept_fns(self, record):\n",
    "        return [item.accept_visit(self) for item in record]\n",
    "    \n",
    "    def execute_accept_fns(self, fns, kwargs_list=None):\n",
    "        kwargs_list = kwargs_list or [{} for _ in fns]\n",
    "        for fn, kwargs in zip(fns, kwargs_list): fn(**kwargs)\n",
    "        \n",
    "    def visit_all(self, record, kwargs_list=None):\n",
    "        fns = self.collect_accept_fns(record)\n",
    "        return self.execute_accept_fns(fns, kwargs_list=kwargs_list)\n",
    "    \n",
    "    def visit_image_file(self, image_file, **kwargs): return partial(self._visit_image_file, image_file, **kwargs)\n",
    "    def visit_bbox(self, bbox, **kwargs): return partial(self._visit_bbox, bbox, **kwargs)\n",
    "    def visit_bbox_labelled(self, bbox, **kwargs): return partial(self._visit_bbox_labelled, bbox, **kwargs)\n",
    "    def visit_obbox(self, bbox, **kwargs): return partial(self._visit_obbox, bbox, **kwargs)\n",
    "    def visit_obbox_labelled(self, bbox, **kwargs): return partial(self._visit_obbox_labelled, bbox, **kwargs)\n",
    "    def visit_keypoints(self, keypoints, **kwargs): return partial(self._visit_keypoints, keypoints, **kwargs)\n",
    "    def visit_segmask(self, segmax, **kwargs): return partial(self._visit_segmask, segmax, **kwargs)"
   ]
  },
  {
   "cell_type": "code",
   "execution_count": null,
   "id": "0d970056",
   "metadata": {},
   "outputs": [],
   "source": [
    "#| hide\n",
    "from nbdev import nbdev_export\n",
    "nbdev_export()"
   ]
  }
 ],
 "metadata": {
  "kernelspec": {
   "display_name": "conda-env-pokev2.1-py",
   "language": "python",
   "name": "conda-env-pokev2.1-py"
  }
 },
 "nbformat": 4,
 "nbformat_minor": 5
}
