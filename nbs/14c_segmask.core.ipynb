{
 "cells": [
  {
   "cell_type": "code",
   "execution_count": null,
   "id": "a6c13673",
   "metadata": {},
   "outputs": [],
   "source": [
    "#| default_exp segmask.core"
   ]
  },
  {
   "cell_type": "markdown",
   "id": "3873aece",
   "metadata": {},
   "source": [
    "# SegMaskCore\n",
    "\n",
    "> API details."
   ]
  },
  {
   "cell_type": "code",
   "execution_count": null,
   "id": "a8e945b3",
   "metadata": {},
   "outputs": [],
   "source": [
    "#|hide\n",
    "from nbdev.showdoc import *"
   ]
  },
  {
   "cell_type": "code",
   "execution_count": null,
   "id": "a0d4bac4",
   "metadata": {},
   "outputs": [
    {
     "name": "stderr",
     "output_type": "stream",
     "text": [
      "/home/michael/git/polvo/polvo/utils/logging.py:8: TqdmExperimentalWarning: Using `tqdm.autonotebook.tqdm` in notebook mode. Use `tqdm.tqdm` instead to force console mode (e.g. in jupyter console)\n",
      "  from tqdm.autonotebook import tqdm\n",
      "/home/michael/Downloads/yes/envs/pokev2.1.copy2/lib/python3.7/site-packages/mmcv/__init__.py:21: UserWarning: On January 1, 2023, MMCV will release v2.0.0, in which it will remove components related to the training process and add a data transformation module. In addition, it will rename the package names mmcv to mmcv-lite and mmcv-full to mmcv. See https://github.com/open-mmlab/mmcv/blob/master/docs/en/compatibility.md for more details.\n",
      "  'On January 1, 2023, MMCV will release v2.0.0, in which it will remove '\n",
      "\u001b[1m\u001b[1mINFO    \u001b[0m\u001b[1m\u001b[0m - \u001b[1mThe mmseg config folder already exists. No need to downloaded it. Path : /home/michael/.icevision/mmsegmentation_configs/mmsegmentation_configs-0.17.0/configs\u001b[0m | \u001b[36micevision.models.mmseg.download_configs\u001b[0m:\u001b[36mdownload_mmseg_configs\u001b[0m:\u001b[36m20\u001b[0m\n"
     ]
    }
   ],
   "source": [
    "#| export\n",
    "from fastcore.all import *\n",
    "import cv2\n",
    "import numpy as np\n",
    "import polvo as pv"
   ]
  },
  {
   "cell_type": "code",
   "execution_count": null,
   "id": "f0e01236",
   "metadata": {},
   "outputs": [],
   "source": [
    "#|export\n",
    "class SegMask:\n",
    "    def __init__(self, mask, class_map):\n",
    "        self.mask = mask\n",
    "        self.class_map = class_map\n",
    "       \n",
    "    def accept_visit(self, visitor): return visitor.visit_segmask(self)\n",
    "    \n",
    "    def to_contours(self, method=cv2.CHAIN_APPROX_SIMPLE, mode=cv2.RETR_EXTERNAL):\n",
    "        arr = self.mask.squeeze().astype(np.uint8)\n",
    "        contours = {}\n",
    "        for id_ in set(np.unique(arr)):\n",
    "            label = self.class_map.id2name[id_]\n",
    "            if label == 'background': continue\n",
    "            mask = (arr == id_).astype(np.uint8)\n",
    "            contours[label] = cv2.findContours(mask, mode, method)[0]\n",
    "        return contours\n",
    "\n",
    "    def __repr__(self):\n",
    "        return f\"<{self.__class__.__name__}\\n{self.mask}>\""
   ]
  },
  {
   "cell_type": "code",
   "execution_count": null,
   "id": "77b42f11",
   "metadata": {},
   "outputs": [
    {
     "data": {
      "text/plain": [
       "<SegMask\n",
       "[[          0           0           0 ...           0           0           0]\n",
       " [          0           0           0 ...           0           0           0]\n",
       " [          0           0           0 ...           0           0           0]\n",
       " ...\n",
       " [          0           0           0 ...           0           0           0]\n",
       " [          0           0           0 ...           0           0           0]\n",
       " [          0           0           0 ...           0           0           0]]>"
      ]
     },
     "execution_count": null,
     "metadata": {},
     "output_type": "execute_result"
    }
   ],
   "source": [
    "mask = np.zeros((32, 32))\n",
    "mask[3:21, 5:18] = 1\n",
    "mask[10:16, 7:12] = 2\n",
    "mask = SegMask(mask, pv.ClassMap(pv.Label(0, 'background'), pv.Label(1, 'test'), pv.Label(2, 'test2')))\n",
    "mask"
   ]
  },
  {
   "cell_type": "code",
   "execution_count": null,
   "id": "106d594c",
   "metadata": {},
   "outputs": [
    {
     "data": {
      "text/plain": [
       "dict_keys(['test', 'test2'])"
      ]
     },
     "execution_count": null,
     "metadata": {},
     "output_type": "execute_result"
    }
   ],
   "source": [
    "mask.to_contours()"
   ]
  },
  {
   "cell_type": "code",
   "execution_count": null,
   "id": "0d970056",
   "metadata": {},
   "outputs": [],
   "source": [
    "#| hide\n",
    "from nbdev import nbdev_export\n",
    "nbdev_export()"
   ]
  },
  {
   "cell_type": "code",
   "execution_count": null,
   "id": "39e0302a",
   "metadata": {},
   "outputs": [],
   "source": []
  }
 ],
 "metadata": {
  "kernelspec": {
   "display_name": "Python [conda env:allpolvo]",
   "language": "python",
   "name": "conda-env-allpolvo-py"
  }
 },
 "nbformat": 4,
 "nbformat_minor": 5
}
