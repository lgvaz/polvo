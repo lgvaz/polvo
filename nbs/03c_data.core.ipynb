{
 "cells": [
  {
   "cell_type": "code",
   "execution_count": null,
   "id": "620a6dca",
   "metadata": {},
   "outputs": [],
   "source": [
    "#|default_exp data.core"
   ]
  },
  {
   "cell_type": "markdown",
   "id": "d828c6ea",
   "metadata": {},
   "source": [
    "# Data\n",
    "\n",
    "> Data core"
   ]
  },
  {
   "cell_type": "code",
   "execution_count": null,
   "id": "5eebcd9f",
   "metadata": {},
   "outputs": [
    {
     "name": "stderr",
     "output_type": "stream",
     "text": [
      "/home/michael/git/polvo/polvo/utils/logging.py:8: TqdmExperimentalWarning: Using `tqdm.autonotebook.tqdm` in notebook mode. Use `tqdm.tqdm` instead to force console mode (e.g. in jupyter console)\n",
      "  from tqdm.autonotebook import tqdm\n"
     ]
    }
   ],
   "source": [
    "#|export\n",
    "from fastcore.all import *\n",
    "import polvo as pv"
   ]
  },
  {
   "cell_type": "code",
   "execution_count": null,
   "id": "a388ddb8",
   "metadata": {},
   "outputs": [],
   "source": [
    "#|export\n",
    "# Still needs to be figured out\n",
    "class Component:\n",
    "    ..."
   ]
  },
  {
   "cell_type": "code",
   "execution_count": null,
   "id": "d7f23abf",
   "metadata": {},
   "outputs": [],
   "source": [
    "#|export\n",
    "class Label:\n",
    "    def __init__(self, id, name): store_attr()\n",
    "    def __repr__(self): return f'{self.id}: {self.name}'"
   ]
  },
  {
   "cell_type": "code",
   "execution_count": null,
   "id": "ce7ebf8f",
   "metadata": {},
   "outputs": [],
   "source": [
    "#|export\n",
    "class ClassMap:\n",
    "    def __init__(self, *labels): \n",
    "        self.labels = labels\n",
    "        self.id2name = {l.id: l.name for l in labels}\n",
    "        self.name2id = {l.name: l.id for l in labels}\n",
    "        \n",
    "    def __repr__(self): return f'<{self.__class__.__name__} {self.name2id}>'"
   ]
  },
  {
   "cell_type": "code",
   "execution_count": 1,
   "id": "9a366509",
   "metadata": {},
   "outputs": [],
   "source": [
    "#|hide\n",
    "from nbdev import nbdev_export\n",
    "nbdev_export()"
   ]
  },
  {
   "cell_type": "code",
   "execution_count": null,
   "id": "ecc96ffa",
   "metadata": {},
   "outputs": [],
   "source": []
  }
 ],
 "metadata": {
  "kernelspec": {
   "display_name": "Python [conda env:pokev2.1]",
   "language": "python",
   "name": "conda-env-pokev2.1-py"
  },
  "language_info": {
   "codemirror_mode": {
    "name": "ipython",
    "version": 3
   },
   "file_extension": ".py",
   "mimetype": "text/x-python",
   "name": "python",
   "nbconvert_exporter": "python",
   "pygments_lexer": "ipython3",
   "version": "3.7.15"
  },
  "varInspector": {
   "cols": {
    "lenName": 16,
    "lenType": 16,
    "lenVar": 40
   },
   "kernels_config": {
    "python": {
     "delete_cmd_postfix": "",
     "delete_cmd_prefix": "del ",
     "library": "var_list.py",
     "varRefreshCmd": "print(var_dic_list())"
    },
    "r": {
     "delete_cmd_postfix": ") ",
     "delete_cmd_prefix": "rm(",
     "library": "var_list.r",
     "varRefreshCmd": "cat(var_dic_list()) "
    }
   },
   "types_to_exclude": [
    "module",
    "function",
    "builtin_function_or_method",
    "instance",
    "_Feature"
   ],
   "window_display": false
  }
 },
 "nbformat": 4,
 "nbformat_minor": 5
}
