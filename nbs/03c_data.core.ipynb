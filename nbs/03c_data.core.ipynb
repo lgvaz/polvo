{
 "cells": [
  {
   "cell_type": "code",
   "execution_count": null,
   "id": "620a6dca",
   "metadata": {},
   "outputs": [],
   "source": [
    "#|default_exp data.core"
   ]
  },
  {
   "cell_type": "markdown",
   "id": "d828c6ea",
   "metadata": {},
   "source": [
    "# Data\n",
    "\n",
    "> Data core"
   ]
  },
  {
   "cell_type": "code",
   "execution_count": null,
   "id": "5eebcd9f",
   "metadata": {},
   "outputs": [
    {
     "name": "stderr",
     "output_type": "stream",
     "text": [
      "/home/lgvaz/git/polvo/polvo/utils/logging.py:8: TqdmExperimentalWarning: Using `tqdm.autonotebook.tqdm` in notebook mode. Use `tqdm.tqdm` instead to force console mode (e.g. in jupyter console)\n",
      "  from tqdm.autonotebook import tqdm\n"
     ]
    }
   ],
   "source": [
    "#|export\n",
    "from fastcore.all import *\n",
    "import polvo as pv"
   ]
  },
  {
   "cell_type": "code",
   "execution_count": null,
   "id": "a388ddb8",
   "metadata": {},
   "outputs": [],
   "source": [
    "#|export\n",
    "# Still needs to be figured out\n",
    "class Component:\n",
    "    ..."
   ]
  },
  {
   "cell_type": "code",
   "execution_count": null,
   "id": "d7f23abf",
   "metadata": {},
   "outputs": [],
   "source": [
    "#|export\n",
    "class Label:\n",
    "    def __init__(self, id, name): store_attr()\n",
    "    def __repr__(self): return f'{self.id}: {self.name}'"
   ]
  },
  {
   "cell_type": "code",
   "execution_count": null,
   "id": "9a366509",
   "metadata": {},
   "outputs": [],
   "source": [
    "#|hide\n",
    "from nbdev import nbdev_export\n",
    "nbdev_export()"
   ]
  },
  {
   "cell_type": "code",
   "execution_count": null,
   "id": "ecc96ffa",
   "metadata": {},
   "outputs": [],
   "source": []
  }
 ],
 "metadata": {
  "kernelspec": {
   "display_name": "Python [conda env:allpolvo]",
   "language": "python",
   "name": "conda-env-allpolvo-py"
  }
 },
 "nbformat": 4,
 "nbformat_minor": 5
}
