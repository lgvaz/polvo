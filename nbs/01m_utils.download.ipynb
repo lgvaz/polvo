{
 "cells": [
  {
   "cell_type": "code",
   "execution_count": null,
   "id": "620a6dca",
   "metadata": {},
   "outputs": [],
   "source": [
    "#|default_exp utils.download"
   ]
  },
  {
   "cell_type": "markdown",
   "id": "d828c6ea",
   "metadata": {},
   "source": [
    "# Download utils\n",
    "\n",
    "> Utility functions for downloading stuff."
   ]
  },
  {
   "cell_type": "code",
   "execution_count": null,
   "id": "0e8905f4",
   "metadata": {},
   "outputs": [],
   "source": [
    "#|export\n",
    "from fastcore.all import *\n",
    "import polvo as pv"
   ]
  },
  {
   "cell_type": "code",
   "execution_count": null,
   "id": "7985fe70",
   "metadata": {},
   "outputs": [],
   "source": [
    "#|hide\n",
    "from tempfile import TemporaryDirectory"
   ]
  },
  {
   "cell_type": "code",
   "execution_count": null,
   "id": "4f1b28dc",
   "metadata": {},
   "outputs": [],
   "source": [
    "#|export\n",
    "def download(url, save_dir, chunk_size=1024):\n",
    "    \"\"\"Download file from url\"\"\"\n",
    "    import requests\n",
    "    r = requests.get(url, stream=True)\n",
    "    save_path = Path(save_dir)/Path(url).name\n",
    "    with open(str(save_path), \"wb\") as f:\n",
    "        bar_total = r.headers.get(\"Content-Length\")\n",
    "        bar = pv.pbar(unit=\"B\", total=int(bar_total) if bar_total else None)\n",
    "        for chunk in r.iter_content(chunk_size=chunk_size):\n",
    "            if chunk:  # filter out keep-alive new chunks\n",
    "                bar.update(len(chunk))\n",
    "                f.write(chunk)\n",
    "    return save_path"
   ]
  },
  {
   "cell_type": "code",
   "execution_count": null,
   "id": "f8f79a74",
   "metadata": {},
   "outputs": [],
   "source": [
    "#|export\n",
    "def download_and_extract(url, save_dir, chunk_size=1024):\n",
    "    save_path = download(url=str(url), save_dir=save_dir, chunk_size=chunk_size)\n",
    "    import shutil; shutil.unpack_archive(filename=str(save_path), extract_dir=str(save_dir))\n",
    "    return save_dir"
   ]
  },
  {
   "cell_type": "code",
   "execution_count": null,
   "id": "a315bb18",
   "metadata": {},
   "outputs": [
    {
     "data": {
      "application/vnd.jupyter.widget-view+json": {
       "model_id": "bcfb098d3fe34d55beb24ad78f7412e1",
       "version_major": 2,
       "version_minor": 0
      },
      "text/plain": [
       "  0%|          | 0/342207 [00:00<?, ?B/s]"
      ]
     },
     "metadata": {},
     "output_type": "display_data"
    }
   ],
   "source": [
    "with TemporaryDirectory() as d:\n",
    "    download_and_extract('https://s3.amazonaws.com/fast-ai-sample/mnist_tiny.tgz', d)"
   ]
  },
  {
   "cell_type": "code",
   "execution_count": null,
   "id": "f4d7230c",
   "metadata": {},
   "outputs": [],
   "source": [
    "#|export\n",
    "def download_gdrive(url):\n",
    "    \"\"\"Download from gdrive, passing virus scan for big files.\"\"\"\n",
    "    import gdown\n",
    "    return gdown.download(url=str(url), quiet=False)"
   ]
  },
  {
   "cell_type": "code",
   "execution_count": null,
   "id": "a192d69f",
   "metadata": {},
   "outputs": [],
   "source": [
    "#|export\n",
    "def download_and_extract_gdrive(url, extract_dir):\n",
    "    extract_dir = Path(extract_dir)\n",
    "    extract_dir.mkdir(exist_ok=True, parents=True)\n",
    "\n",
    "    filename = download_gdrive(url=url)\n",
    "    import shutil; shutil.unpack_archive(filename=filename, extract_dir=str(extract_dir))"
   ]
  },
  {
   "cell_type": "code",
   "execution_count": null,
   "id": "9a366509",
   "metadata": {},
   "outputs": [],
   "source": [
    "#|hide\n",
    "from nbdev import nbdev_export\n",
    "nbdev_export()"
   ]
  },
  {
   "cell_type": "code",
   "execution_count": null,
   "id": "ecc96ffa",
   "metadata": {},
   "outputs": [],
   "source": []
  }
 ],
 "metadata": {
  "kernelspec": {
   "display_name": "Python [conda env:allpolvo]",
   "language": "python",
   "name": "conda-env-allpolvo-py"
  }
 },
 "nbformat": 4,
 "nbformat_minor": 5
}
