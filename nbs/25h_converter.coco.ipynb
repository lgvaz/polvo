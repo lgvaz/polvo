{
 "cells": [
  {
   "cell_type": "code",
   "execution_count": null,
   "id": "423b444d",
   "metadata": {},
   "outputs": [],
   "source": [
    "%load_ext autoreload\n",
    "%autoreload 2"
   ]
  },
  {
   "cell_type": "code",
   "execution_count": null,
   "id": "a6c13673",
   "metadata": {},
   "outputs": [],
   "source": [
    "#|default_exp converter.cocov2"
   ]
  },
  {
   "cell_type": "markdown",
   "id": "3873aece",
   "metadata": {},
   "source": [
    "# Coco converter.\n",
    "\n",
    "> Convert dataset formats."
   ]
  },
  {
   "cell_type": "code",
   "execution_count": null,
   "id": "8a1ff7c3",
   "metadata": {},
   "outputs": [
    {
     "name": "stderr",
     "output_type": "stream",
     "text": [
      "/home/michael/git/polvo/polvo/utils/logging.py:8: TqdmExperimentalWarning: Using `tqdm.autonotebook.tqdm` in notebook mode. Use `tqdm.tqdm` instead to force console mode (e.g. in jupyter console)\n",
      "  from tqdm.autonotebook import tqdm\n",
      "/home/michael/Downloads/yes/envs/pokev2.1.copy2/lib/python3.7/site-packages/mmcv/__init__.py:21: UserWarning: On January 1, 2023, MMCV will release v2.0.0, in which it will remove components related to the training process and add a data transformation module. In addition, it will rename the package names mmcv to mmcv-lite and mmcv-full to mmcv. See https://github.com/open-mmlab/mmcv/blob/master/docs/en/compatibility.md for more details.\n",
      "  'On January 1, 2023, MMCV will release v2.0.0, in which it will remove '\n",
      "\u001b[1m\u001b[1mINFO    \u001b[0m\u001b[1m\u001b[0m - \u001b[1mThe mmseg config folder already exists. No need to downloaded it. Path : /home/michael/.icevision/mmsegmentation_configs/mmsegmentation_configs-0.17.0/configs\u001b[0m | \u001b[36micevision.models.mmseg.download_configs\u001b[0m:\u001b[36mdownload_mmseg_configs\u001b[0m:\u001b[36m20\u001b[0m\n"
     ]
    }
   ],
   "source": [
    "#|export\n",
    "from fastcore.all import *\n",
    "import cv2\n",
    "import shutil\n",
    "import numpy as np\n",
    "import polvo as pv"
   ]
  },
  {
   "cell_type": "code",
   "execution_count": null,
   "id": "832aeddc",
   "metadata": {},
   "outputs": [],
   "source": [
    "#|export\n",
    "class COCOV2(pv.Visitor):\n",
    "    def _initial_json(self):\n",
    "        return {\n",
    "            'info': {'year': '', 'version': ''},\n",
    "            'licenses': [{'id': 0, 'url': '', 'name': ''}],\n",
    "            'categories': [],\n",
    "            'images': [],\n",
    "            'annotations': []}\n",
    "    \n",
    "    def convert_record(self, record, image_dir, ann_dir):\n",
    "        ...\n",
    "    \n",
    "    def convert_records(self, save_dir, records, n_workers=defaults.cpus):\n",
    "        ...\n",
    "#         image_dir = pv.mkdir(Path(save_dir)/'images')\n",
    "#         ann_dir = pv.mkdir(Path(save_dir)/'labels')\n",
    "        # Parallel might be problematic with current implementation\n",
    "        # it might get wrong indices when doing len(self._json['images'])\n",
    "#         parallel(pv.partial(self.convert_record, image_dir=image_dir, ann_dir=ann_dir),\n",
    "#                  records, progress=pv.pbar, n_workers=n_workers)\n",
    "\n",
    "        \n",
    "    def dataset_json(self, records, dataset_class_map):\n",
    "        self._dataset_class_map = dataset_class_map\n",
    "        self._json = self._initial_json()\n",
    "        self._add_categories(dataset_class_map)\n",
    "        for record in records: self.record_json(record)\n",
    "        return self._json\n",
    "    \n",
    "    def _add_categories(self, class_map):\n",
    "        for i, name in class_map.id2name.items(): \n",
    "            self._json['categories'].append({'id': i, 'name': name, 'supercategory': ''})\n",
    "        \n",
    "    def record_json(self, record):\n",
    "        self._labels, self._bboxes = [], []\n",
    "        self.visit_all(record)\n",
    "        \n",
    "    def _visit_image_file(self, image_file): \n",
    "        self._w,self._h = pv.image_size(image_file)\n",
    "        self._image_file = image_file\n",
    "        self._image_id = len(self._json['images'])+1\n",
    "        self._json['images'].append({\n",
    "            'id': self._image_id,\n",
    "            'license': 0,\n",
    "            'file_name': self._image_file.name,\n",
    "            'height': self._h,\n",
    "            'width': self._w,\n",
    "        })\n",
    "    \n",
    "    def _visit_bbox_labelled(self, bbox):\n",
    "        annotation_id = len(self._json['annotations'])\n",
    "        self._json['annotations'].append({\n",
    "            'id': annotation_id,\n",
    "            'image_id': self._image_id,\n",
    "            'category_id': self._dataset_class_map.name2id[bbox.label.name],\n",
    "            'bbox': bbox.xyxy.astype(int).tolist(),\n",
    "            'area': int(bbox.area),\n",
    "            'segmentation': [bbox.flat.astype(int).tolist()],\n",
    "            'iscrowd': 0\n",
    "        })\n",
    "\n",
    "    def _visit_obbox_labelled(self, obbox):\n",
    "        annotation_id = len(self._json['annotations'])\n",
    "        self._json['annotations'].append({\n",
    "            'id': annotation_id,\n",
    "            'image_id': self._image_id,\n",
    "            'category_id': self._dataset_class_map.name2id[obbox.label.name],\n",
    "            'bbox': obbox.xyxy.astype(int).tolist(),\n",
    "            'area': int(obbox.area),\n",
    "            'segmentation': [obbox.flat.astype(int).tolist()],\n",
    "            'iscrowd': 0\n",
    "        })\n",
    "        \n",
    "    def _visit_segmask(self, segmask):\n",
    "        contours = segmask.to_contours()\n",
    "        for label, contour in contours.items():\n",
    "            for c in contour:\n",
    "                dataset_catid = self._dataset_class_map.name2id[label]\n",
    "                self._json['annotations'].append(self._contour_to_annotation(c, dataset_catid))\n",
    "\n",
    "    def _contour_to_annotation(self, contour, category_id):\n",
    "        assert contour.shape[1] == 1 #i'm not sure i can just ignore the 2nd dim\n",
    "        contour = contour[:, 0, :]\n",
    "        # segmentation\n",
    "        polygon = contour.ravel().tolist()\n",
    "        # bbox\n",
    "        xmax, ymax = contour.max(axis=0).tolist()\n",
    "        xmin, ymin = contour.min(axis=0).tolist()\n",
    "        bbox = [xmin, ymin, xmax - xmin, ymax - ymin]\n",
    "\n",
    "        annotation_id = len(self._json['annotations'])\n",
    "        return {\n",
    "            'id': annotation_id,\n",
    "            'image_id': self._image_id,\n",
    "            \"category_id\": category_id,\n",
    "            \"segmentation\": [polygon],\n",
    "            \"bbox\": bbox,\n",
    "            \"iscrowd\": 0,\n",
    "        }"
   ]
  },
  {
   "cell_type": "code",
   "execution_count": null,
   "id": "53980008",
   "metadata": {},
   "outputs": [],
   "source": [
    "import polvo.bbox as pb\n",
    "import polvo.segmask as ps"
   ]
  },
  {
   "cell_type": "code",
   "execution_count": null,
   "id": "61f05c56",
   "metadata": {},
   "outputs": [],
   "source": [
    "image_file = pv.ImageFile(str(pv.test.SEG_IMAGE))\n",
    "class_map = {0: 'test0', 1: 'test1'}\n",
    "labels = [pv.Label(i, class_map[i]) for i in [0, 1, 1]]\n",
    "bboxes = [pb.BBox.from_xyxy(20, 20, 64, 280),\n",
    "          pb.BBox.from_xywh(10, 72, 478, 72),\n",
    "          pb.BBox.from_relative_xcycwh(.4, .4, .7, .6, 512, 300),\n",
    "         ]\n",
    "bboxesl = [pb.BBoxLabeled(bbox, label) for bbox, label in pv.safe_zip(bboxes, labels)]\n",
    "\n",
    "olabels = [pv.Label(i, class_map[i]) for i in [0]]\n",
    "obboxes = [pb.OBBox.from_clockwise(256,175, 100,140, 80),]\n",
    "obboxesl = [pb.OBBoxLabeled(obbox, label) for obbox, label in pv.safe_zip(obboxes, olabels)]"
   ]
  },
  {
   "cell_type": "code",
   "execution_count": null,
   "id": "af01d423",
   "metadata": {},
   "outputs": [],
   "source": [
    "dataset_class_map = pv.ClassMap(pv.Label(6, 'test0'), pv.Label(7, 'test1'), pv.Label(50, 'seg1'), pv.Label(0, 'background'))"
   ]
  },
  {
   "cell_type": "code",
   "execution_count": null,
   "id": "2bcd9e70",
   "metadata": {},
   "outputs": [
    {
     "data": {
      "text/plain": [
       "<AxesSubplot:>"
      ]
     },
     "execution_count": null,
     "metadata": {},
     "output_type": "execute_result"
    },
    {
     "data": {
      "image/png": "[encoded data removed]",
      "text/plain": [
       "<Figure size 432x288 with 1 Axes>"
      ]
     },
     "metadata": {
      "needs_background": "light"
     },
     "output_type": "display_data"
    }
   ],
   "source": [
    "seg_class_map = pv.ClassMap(pv.Label(0, 'background'), pv.Label(1, 'seg1'))\n",
    "mask = np.zeros((32, 32), dtype=np.uint8)\n",
    "mask[8:17, 8:17] = 1\n",
    "mask[20:26, 22:30] = 1\n",
    "mask = ps.SegMask(mask, seg_class_map)\n",
    "pv.show_image(mask.mask)"
   ]
  },
  {
   "cell_type": "code",
   "execution_count": null,
   "id": "e0def7a8",
   "metadata": {},
   "outputs": [],
   "source": [
    "record = [image_file, *bboxesl, *obboxesl, mask]\n",
    "converter = COCOV2()\n",
    "# converter.convert_record(record)"
   ]
  },
  {
   "cell_type": "code",
   "execution_count": null,
   "id": "feb337bd",
   "metadata": {},
   "outputs": [],
   "source": [
    "#|export\n",
    "# temporary\n",
    "import cv2"
   ]
  },
  {
   "cell_type": "code",
   "execution_count": null,
   "id": "2b186ac8",
   "metadata": {},
   "outputs": [],
   "source": [
    "json = converter.dataset_json([record], dataset_class_map)"
   ]
  },
  {
   "cell_type": "code",
   "execution_count": null,
   "id": "9fa2c4f3",
   "metadata": {},
   "outputs": [
    {
     "data": {
      "text/plain": [
       "{'info': {'year': '', 'version': ''},\n",
       " 'licenses': [{'id': 0, 'url': '', 'name': ''}],\n",
       " 'categories': [{'id': 6, 'name': 'test0', 'supercategory': ''},\n",
       "  {'id': 7, 'name': 'test1', 'supercategory': ''},\n",
       "  {'id': 50, 'name': 'seg1', 'supercategory': ''},\n",
       "  {'id': 0, 'name': 'background', 'supercategory': ''}],\n",
       " 'images': [{'id': 1,\n",
       "   'license': 0,\n",
       "   'file_name': 'image1.png',\n",
       "   'height': 332,\n",
       "   'width': 500}],\n",
       " 'annotations': [{'id': 0,\n",
       "   'image_id': 1,\n",
       "   'category_id': 6,\n",
       "   'bbox': [20, 20, 64, 280],\n",
       "   'area': 11440,\n",
       "   'segmentation': [[20, 20, 64, 20, 64, 280, 20, 280]],\n",
       "   'iscrowd': 0},\n",
       "  {'id': 1,\n",
       "   'image_id': 1,\n",
       "   'category_id': 7,\n",
       "   'bbox': [10, 72, 488, 144],\n",
       "   'area': 34416,\n",
       "   'segmentation': [[10, 72, 488, 72, 488, 144, 10, 144]],\n",
       "   'iscrowd': 0},\n",
       "  {'id': 2,\n",
       "   'image_id': 1,\n",
       "   'category_id': 7,\n",
       "   'bbox': [26, 30, 384, 210],\n",
       "   'area': 64440,\n",
       "   'segmentation': [[26, 30, 384, 30, 384, 210, 26, 210]],\n",
       "   'iscrowd': 0},\n",
       "  {'id': 3,\n",
       "   'image_id': 1,\n",
       "   'category_id': 6,\n",
       "   'bbox': [118, 175, 273, 297],\n",
       "   'area': 19061,\n",
       "   'segmentation': [[118, 199, 256, 175, 273, 273, 135, 297]],\n",
       "   'iscrowd': 0},\n",
       "  {'id': 4,\n",
       "   'image_id': 1,\n",
       "   'category_id': 50,\n",
       "   'segmentation': [[22, 20, 22, 25, 29, 25, 29, 20]],\n",
       "   'bbox': [22, 20, 7, 5],\n",
       "   'iscrowd': 0},\n",
       "  {'id': 5,\n",
       "   'image_id': 1,\n",
       "   'category_id': 50,\n",
       "   'segmentation': [[8, 8, 8, 16, 16, 16, 16, 8]],\n",
       "   'bbox': [8, 8, 8, 8],\n",
       "   'iscrowd': 0}]}"
      ]
     },
     "execution_count": null,
     "metadata": {},
     "output_type": "execute_result"
    }
   ],
   "source": [
    "json"
   ]
  },
  {
   "cell_type": "code",
   "execution_count": null,
   "id": "77efd82c",
   "metadata": {},
   "outputs": [],
   "source": [
    "pv.save_json(json, pv.mkdir('test', tmp=True, overwrite=True)/'annotation.json')"
   ]
  },
  {
   "cell_type": "code",
   "execution_count": null,
   "id": "0d970056",
   "metadata": {},
   "outputs": [],
   "source": [
    "#| hide\n",
    "from nbdev import nbdev_export\n",
    "nbdev_export()"
   ]
  },
  {
   "cell_type": "code",
   "execution_count": null,
   "id": "bd0e8b7e",
   "metadata": {},
   "outputs": [],
   "source": []
  }
 ],
 "metadata": {
  "kernelspec": {
   "display_name": "Python [conda env:allpolvo]",
   "language": "python",
   "name": "conda-env-allpolvo-py"
  }
 },
 "nbformat": 4,
 "nbformat_minor": 5
}
