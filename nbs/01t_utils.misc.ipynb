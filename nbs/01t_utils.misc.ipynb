{
 "cells": [
  {
   "cell_type": "code",
   "execution_count": null,
   "id": "620a6dca",
   "metadata": {},
   "outputs": [],
   "source": [
    "#|default_exp utils.misc"
   ]
  },
  {
   "cell_type": "markdown",
   "id": "d828c6ea",
   "metadata": {},
   "source": [
    "# Miscellaneous\n",
    "\n",
    "> Miscellaneous functions."
   ]
  },
  {
   "cell_type": "code",
   "execution_count": null,
   "id": "edb679a6",
   "metadata": {},
   "outputs": [],
   "source": [
    "#|export\n",
    "import itertools"
   ]
  },
  {
   "cell_type": "code",
   "execution_count": null,
   "id": "c15dbecc",
   "metadata": {},
   "outputs": [],
   "source": [
    "#|export\n",
    "def kwargs_grid(**kwargs):\n",
    "    \"Returns a generator with all combinations of kwargs\"\n",
    "    return (dict(zip(kwargs.keys(), v)) for v in itertools.product(*kwargs.values()))"
   ]
  },
  {
   "cell_type": "code",
   "execution_count": null,
   "id": "c7314826",
   "metadata": {},
   "outputs": [
    {
     "data": {
      "text/plain": [
       "[{'size': (224, 224), 'alpha': 0.3, 'apply_tfms': False},\n",
       " {'size': (224, 224), 'alpha': 0.3, 'apply_tfms': True},\n",
       " {'size': (224, 224), 'alpha': 0.7, 'apply_tfms': False},\n",
       " {'size': (224, 224), 'alpha': 0.7, 'apply_tfms': True},\n",
       " {'size': (224, 224), 'alpha': 0.9, 'apply_tfms': False},\n",
       " {'size': (224, 224), 'alpha': 0.9, 'apply_tfms': True},\n",
       " {'size': (512, 512), 'alpha': 0.3, 'apply_tfms': False},\n",
       " {'size': (512, 512), 'alpha': 0.3, 'apply_tfms': True},\n",
       " {'size': (512, 512), 'alpha': 0.7, 'apply_tfms': False},\n",
       " {'size': (512, 512), 'alpha': 0.7, 'apply_tfms': True},\n",
       " {'size': (512, 512), 'alpha': 0.9, 'apply_tfms': False},\n",
       " {'size': (512, 512), 'alpha': 0.9, 'apply_tfms': True}]"
      ]
     },
     "execution_count": null,
     "metadata": {},
     "output_type": "execute_result"
    }
   ],
   "source": [
    "list(kwargs_grid(size=[(224, 224), (512, 512)], alpha=[0.3, 0.7, 0.9], apply_tfms=[False, True]))"
   ]
  },
  {
   "cell_type": "code",
   "execution_count": null,
   "id": "86e2cbac",
   "metadata": {},
   "outputs": [],
   "source": [
    "class ParameterIterator:\n",
    "    def __call__(self, f):\n",
    "        sig = inspect.signature(f)\n",
    "        @functools.wraps(f)\n",
    "        def wrapper(*args, **kwargs):\n",
    "            bound = sig.bind(*args, **kwargs)\n",
    "            for k, v in bound.arguments.items():\n",
    "                self.apply(k, v)\n",
    "            return f(*args, **kwargs)\n",
    "        return wrapper"
   ]
  },
  {
   "cell_type": "code",
   "execution_count": null,
   "id": "8eda6c3c",
   "metadata": {},
   "outputs": [
    {
     "ename": "NameError",
     "evalue": "name 'Image' is not defined",
     "output_type": "error",
     "traceback": [
      "\u001b[0;31m---------------------------------------------------------------------------\u001b[0m",
      "\u001b[0;31mNameError\u001b[0m                                 Traceback (most recent call last)",
      "\u001b[0;32m/tmp/ipykernel_373/2182277017.py\u001b[0m in \u001b[0;36m<module>\u001b[0;34m\u001b[0m\n\u001b[1;32m      1\u001b[0m \u001b[0;32mdef\u001b[0m \u001b[0m_save_image\u001b[0m\u001b[0;34m(\u001b[0m\u001b[0mimage\u001b[0m\u001b[0;34m,\u001b[0m \u001b[0msave_dir\u001b[0m\u001b[0;34m)\u001b[0m\u001b[0;34m:\u001b[0m \u001b[0;32mreturn\u001b[0m \u001b[0mpv\u001b[0m\u001b[0;34m.\u001b[0m\u001b[0msave_image\u001b[0m\u001b[0;34m(\u001b[0m\u001b[0mimage\u001b[0m\u001b[0;34m,\u001b[0m \u001b[0msave_dir\u001b[0m\u001b[0;34m)\u001b[0m\u001b[0;34m\u001b[0m\u001b[0;34m\u001b[0m\u001b[0m\n\u001b[1;32m      2\u001b[0m \u001b[0;34m\u001b[0m\u001b[0m\n\u001b[0;32m----> 3\u001b[0;31m \u001b[0;32mclass\u001b[0m \u001b[0msave_params\u001b[0m\u001b[0;34m(\u001b[0m\u001b[0mParameterIterator\u001b[0m\u001b[0;34m)\u001b[0m\u001b[0;34m:\u001b[0m\u001b[0;34m\u001b[0m\u001b[0;34m\u001b[0m\u001b[0m\n\u001b[0m\u001b[1;32m      4\u001b[0m     _save_fns = {\n\u001b[1;32m      5\u001b[0m         \u001b[0mImage\u001b[0m\u001b[0;34m:\u001b[0m \u001b[0mpv\u001b[0m\u001b[0;34m.\u001b[0m\u001b[0msave_image\u001b[0m\u001b[0;34m,\u001b[0m\u001b[0;34m\u001b[0m\u001b[0;34m\u001b[0m\u001b[0m\n",
      "\u001b[0;32m/tmp/ipykernel_373/2182277017.py\u001b[0m in \u001b[0;36msave_params\u001b[0;34m()\u001b[0m\n\u001b[1;32m      3\u001b[0m \u001b[0;32mclass\u001b[0m \u001b[0msave_params\u001b[0m\u001b[0;34m(\u001b[0m\u001b[0mParameterIterator\u001b[0m\u001b[0;34m)\u001b[0m\u001b[0;34m:\u001b[0m\u001b[0;34m\u001b[0m\u001b[0;34m\u001b[0m\u001b[0m\n\u001b[1;32m      4\u001b[0m     _save_fns = {\n\u001b[0;32m----> 5\u001b[0;31m         \u001b[0mImage\u001b[0m\u001b[0;34m:\u001b[0m \u001b[0mpv\u001b[0m\u001b[0;34m.\u001b[0m\u001b[0msave_image\u001b[0m\u001b[0;34m,\u001b[0m\u001b[0;34m\u001b[0m\u001b[0;34m\u001b[0m\u001b[0m\n\u001b[0m\u001b[1;32m      6\u001b[0m         \u001b[0mnp\u001b[0m\u001b[0;34m.\u001b[0m\u001b[0mndarray\u001b[0m\u001b[0;34m:\u001b[0m \u001b[0mpv\u001b[0m\u001b[0;34m.\u001b[0m\u001b[0msave_image\u001b[0m\u001b[0;34m,\u001b[0m\u001b[0;34m\u001b[0m\u001b[0;34m\u001b[0m\u001b[0m\n\u001b[1;32m      7\u001b[0m         \u001b[0mnumbers\u001b[0m\u001b[0;34m.\u001b[0m\u001b[0mNumber\u001b[0m\u001b[0;34m:\u001b[0m \u001b[0;32mlambda\u001b[0m \u001b[0ms\u001b[0m\u001b[0;34m:\u001b[0m \u001b[0mpv\u001b[0m\u001b[0;34m.\u001b[0m\u001b[0msave_txt\u001b[0m\u001b[0;34m(\u001b[0m\u001b[0ms\u001b[0m\u001b[0;34m+\u001b[0m\u001b[0;34m'\\n'\u001b[0m\u001b[0;34m,\u001b[0m \u001b[0mappend\u001b[0m\u001b[0;34m=\u001b[0m\u001b[0;32mTrue\u001b[0m\u001b[0;34m)\u001b[0m\u001b[0;34m,\u001b[0m\u001b[0;34m\u001b[0m\u001b[0;34m\u001b[0m\u001b[0m\n",
      "\u001b[0;31mNameError\u001b[0m: name 'Image' is not defined"
     ]
    }
   ],
   "source": [
    "def _save_image(image, save_dir): return pv.save_image(image, save_dir)\n",
    "\n",
    "class save_params(ParameterIterator):\n",
    "    _save_fns = {\n",
    "        Image: pv.save_image,\n",
    "        np.ndarray: pv.save_image,\n",
    "        numbers.Number: lambda s: pv.save_txt(s+'\\n', append=True),\n",
    "        str: lambda s: pv.save_txt(s+'\\n', append=True),\n",
    "    }\n",
    "    \n",
    "    def __init__(\n",
    "        self,\n",
    "        save_dir,\n",
    "        save_fns=None, # Dictionary of {<type>: save_fn}. `save_fn` first parameter should be the object, and second the path.\n",
    "    ):\n",
    "        \"Save all parameters of decorated function\"\n",
    "        self.save_dir = pv.mkdir(save_dir, exist_ok=True)\n",
    "        self.save_fns = save_fns or self._save_fns.copy()\n",
    "        \n",
    "    def apply(self, k, v):\n",
    "        save_fns[type(k)](v, self.save_dir)"
   ]
  },
  {
   "cell_type": "code",
   "execution_count": null,
   "id": "a72ec8a0",
   "metadata": {},
   "outputs": [],
   "source": [
    "@save_params('foo_params')\n",
    "def foo(a, b, c=2, d='test'):\n",
    "    return"
   ]
  },
  {
   "cell_type": "code",
   "execution_count": null,
   "id": "9a366509",
   "metadata": {},
   "outputs": [],
   "source": [
    "#|hide\n",
    "from nbdev import nbdev_export\n",
    "nbdev_export()"
   ]
  },
  {
   "cell_type": "code",
   "execution_count": null,
   "id": "ecc96ffa",
   "metadata": {},
   "outputs": [],
   "source": []
  }
 ],
 "metadata": {
  "kernelspec": {
   "display_name": "Python [conda env:allpolvo]",
   "language": "python",
   "name": "conda-env-allpolvo-py"
  }
 },
 "nbformat": 4,
 "nbformat_minor": 5
}
