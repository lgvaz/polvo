{
 "cells": [
  {
   "cell_type": "code",
   "execution_count": null,
   "id": "620a6dca",
   "metadata": {},
   "outputs": [],
   "source": [
    "#|default_exp utils.misc"
   ]
  },
  {
   "cell_type": "markdown",
   "id": "d828c6ea",
   "metadata": {},
   "source": [
    "# Miscellaneous\n",
    "\n",
    "> Miscellaneous functions."
   ]
  },
  {
   "cell_type": "code",
   "execution_count": null,
   "id": "edb679a6",
   "metadata": {},
   "outputs": [
    {
     "name": "stderr",
     "output_type": "stream",
     "text": [
      "/home/lgvaz/git/polvo/polvo/utils/logging.py:8: TqdmExperimentalWarning: Using `tqdm.autonotebook.tqdm` in notebook mode. Use `tqdm.tqdm` instead to force console mode (e.g. in jupyter console)\n",
      "  from tqdm.autonotebook import tqdm\n"
     ]
    }
   ],
   "source": [
    "#|export\n",
    "from fastcore.all import *\n",
    "import numbers\n",
    "import polvo as pv\n",
    "\n",
    "from PIL import Image"
   ]
  },
  {
   "cell_type": "code",
   "execution_count": null,
   "id": "c15dbecc",
   "metadata": {},
   "outputs": [],
   "source": [
    "#|export\n",
    "def kwargs_grid(**kwargs):\n",
    "    \"Returns a generator with all combinations of kwargs\"\n",
    "    return (dict(zip(kwargs.keys(), v)) for v in itertools.product(*kwargs.values()))"
   ]
  },
  {
   "cell_type": "code",
   "execution_count": null,
   "id": "c7314826",
   "metadata": {},
   "outputs": [
    {
     "data": {
      "text/plain": [
       "[{'size': (224, 224), 'alpha': 0.3, 'apply_tfms': False},\n",
       " {'size': (224, 224), 'alpha': 0.3, 'apply_tfms': True},\n",
       " {'size': (224, 224), 'alpha': 0.7, 'apply_tfms': False},\n",
       " {'size': (224, 224), 'alpha': 0.7, 'apply_tfms': True},\n",
       " {'size': (224, 224), 'alpha': 0.9, 'apply_tfms': False},\n",
       " {'size': (224, 224), 'alpha': 0.9, 'apply_tfms': True},\n",
       " {'size': (512, 512), 'alpha': 0.3, 'apply_tfms': False},\n",
       " {'size': (512, 512), 'alpha': 0.3, 'apply_tfms': True},\n",
       " {'size': (512, 512), 'alpha': 0.7, 'apply_tfms': False},\n",
       " {'size': (512, 512), 'alpha': 0.7, 'apply_tfms': True},\n",
       " {'size': (512, 512), 'alpha': 0.9, 'apply_tfms': False},\n",
       " {'size': (512, 512), 'alpha': 0.9, 'apply_tfms': True}]"
      ]
     },
     "execution_count": null,
     "metadata": {},
     "output_type": "execute_result"
    }
   ],
   "source": [
    "list(kwargs_grid(size=[(224, 224), (512, 512)], alpha=[0.3, 0.7, 0.9], apply_tfms=[False, True]))"
   ]
  },
  {
   "cell_type": "code",
   "execution_count": null,
   "id": "093e064d",
   "metadata": {},
   "outputs": [],
   "source": [
    "#|export\n",
    "@functools.wraps(zip)\n",
    "def safe_zip(*args, **kwargs):\n",
    "    if len(set(map(len, args))) not in (0, 1):\n",
    "        raise ValueError(f'All elements should have the same size, but got {[len(x) for x in args]}')\n",
    "    return zip(*args, **kwargs)"
   ]
  },
  {
   "cell_type": "code",
   "execution_count": null,
   "id": "a28afffc",
   "metadata": {},
   "outputs": [],
   "source": [
    "test_eq(list(safe_zip([1, 2], [3, 4], [5, 6])), list(zip([1, 2], [3, 4], [5, 6])))"
   ]
  },
  {
   "cell_type": "code",
   "execution_count": null,
   "id": "98a84f16",
   "metadata": {},
   "outputs": [],
   "source": [
    "test_fail(lambda: safe_zip([1, 2], [3, 4], [5]), contains='same size')"
   ]
  },
  {
   "cell_type": "code",
   "execution_count": null,
   "id": "cad7bfb2",
   "metadata": {},
   "outputs": [],
   "source": [
    "#|export\n",
    "def skip_error(fn):\n",
    "    'Returns the error instead of raising it.'\n",
    "    def _inner(*args, **kwargs):\n",
    "        try: return fn(*args, **kwargs)\n",
    "        except Exception as e: return e\n",
    "    return _inner"
   ]
  },
  {
   "cell_type": "code",
   "execution_count": null,
   "id": "ff5ea94c",
   "metadata": {},
   "outputs": [
    {
     "data": {
      "text/plain": [
       "AttributeError(\"'str' object has no attribute 'get'\")"
      ]
     },
     "execution_count": null,
     "metadata": {},
     "output_type": "execute_result"
    }
   ],
   "source": [
    "skip_error(lambda: 'test'.get(2))()"
   ]
  },
  {
   "cell_type": "code",
   "execution_count": null,
   "id": "365fe801",
   "metadata": {},
   "outputs": [],
   "source": [
    "# FIND CORRECT PLACE TO PLACE THIS\n",
    "def wandb_upload(project:str, artifact_name:str, *path:str, type='dataset'):\n",
    "    \"Uploads files or dir to wandb\"\n",
    "    import wandb\n",
    "    run = wandb.init(project=project, job_type=\"data-upload\")\n",
    "    artifact = wandb.Artifact(artifact_name, type=type)\n",
    "    \n",
    "    def _add_file(p): artifact.add_file(p, p)\n",
    "    for p in path:\n",
    "        if Path(p).is_file(): _add_file(p)\n",
    "        else:\n",
    "            for f in pv.get_files(p): _add_file(f)\n",
    "\n",
    "    run.log_artifact(artifact)"
   ]
  },
  {
   "cell_type": "code",
   "execution_count": null,
   "id": "86e2cbac",
   "metadata": {},
   "outputs": [],
   "source": [
    "class ParameterIterator:\n",
    "    def __call__(self, f):\n",
    "        sig = inspect.signature(f)\n",
    "        @functools.wraps(f)\n",
    "        def wrapper(*args, **kwargs):\n",
    "            bound = sig.bind(*args, **kwargs)\n",
    "            for k, v in bound.arguments.items():\n",
    "                self.apply(k, v)\n",
    "            return f(*args, **kwargs)\n",
    "        return wrapper"
   ]
  },
  {
   "cell_type": "code",
   "execution_count": null,
   "id": "8eda6c3c",
   "metadata": {},
   "outputs": [],
   "source": [
    "def _save_image(image, save_dir): return pv.save_image(image, save_dir)\n",
    "\n",
    "class save_params(ParameterIterator):\n",
    "    _save_fns = {\n",
    "        Image: pv.save_image,\n",
    "        np.ndarray: pv.save_image,\n",
    "        numbers.Number: lambda s: pv.save_txt(s+'\\n', append=True),\n",
    "        str: lambda s: pv.save_txt(s+'\\n', append=True),\n",
    "    }\n",
    "    \n",
    "    def __init__(\n",
    "        self,\n",
    "        save_dir,\n",
    "        save_fns=None, # Dictionary of {<type>: save_fn}. `save_fn` first parameter should be the object, and second the path.\n",
    "    ):\n",
    "        \"Save all parameters of decorated function\"\n",
    "        self.save_dir = pv.mkdir(save_dir, exist_ok=True)\n",
    "        self.save_fns = save_fns or self._save_fns.copy()\n",
    "        \n",
    "    def apply(self, k, v):\n",
    "        save_fns[type(k)](v, self.save_dir)"
   ]
  },
  {
   "cell_type": "code",
   "execution_count": null,
   "id": "a72ec8a0",
   "metadata": {},
   "outputs": [],
   "source": [
    "# @save_params('foo_params')\n",
    "# def foo(a, b, c=2, d='test'):\n",
    "#     return"
   ]
  },
  {
   "cell_type": "code",
   "execution_count": null,
   "id": "9a366509",
   "metadata": {},
   "outputs": [],
   "source": [
    "#|hide\n",
    "from nbdev import nbdev_export\n",
    "nbdev_export()"
   ]
  },
  {
   "cell_type": "code",
   "execution_count": null,
   "id": "ecc96ffa",
   "metadata": {},
   "outputs": [],
   "source": []
  }
 ],
 "metadata": {
  "kernelspec": {
   "display_name": "Python [conda env:allpolvo]",
   "language": "python",
   "name": "conda-env-allpolvo-py"
  }
 },
 "nbformat": 4,
 "nbformat_minor": 5
}
