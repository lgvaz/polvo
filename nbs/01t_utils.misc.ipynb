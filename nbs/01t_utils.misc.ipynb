{
 "cells": [
  {
   "cell_type": "code",
   "execution_count": null,
   "id": "620a6dca",
   "metadata": {},
   "outputs": [],
   "source": [
    "#|default_exp utils.misc"
   ]
  },
  {
   "cell_type": "markdown",
   "id": "d828c6ea",
   "metadata": {},
   "source": [
    "# Miscellaneous\n",
    "\n",
    "> Miscellaneous functions."
   ]
  },
  {
   "cell_type": "code",
   "execution_count": null,
   "id": "edb679a6",
   "metadata": {},
   "outputs": [
    {
     "name": "stderr",
     "output_type": "stream",
     "text": [
      "/home/lgvaz/git/polvo/polvo/utils/logging.py:8: TqdmExperimentalWarning: Using `tqdm.autonotebook.tqdm` in notebook mode. Use `tqdm.tqdm` instead to force console mode (e.g. in jupyter console)\n",
      "  from tqdm.autonotebook import tqdm\n"
     ]
    }
   ],
   "source": [
    "#|export\n",
    "from fastcore.all import *\n",
    "import numbers\n",
    "import numpy as np\n",
    "import polvo as pv\n",
    "\n",
    "from PIL import Image"
   ]
  },
  {
   "cell_type": "code",
   "execution_count": null,
   "id": "2a91e595",
   "metadata": {},
   "outputs": [],
   "source": [
    "#|export\n",
    "def flatten(x):\n",
    "    \"From https://stackoverflow.com/a/2158532/6772672\"\n",
    "    if isinstance(x, Iterable) and not isinstance(x, (str, bytes)): \n",
    "        return [a for i in x for a in flatten(i)]\n",
    "    else: return [x]"
   ]
  },
  {
   "cell_type": "code",
   "execution_count": null,
   "id": "cff7993b",
   "metadata": {},
   "outputs": [],
   "source": [
    "test_eq(flatten([[2, 3], ['a', ['c', 4]]]), [2, 3, 'a', 'c', 4])"
   ]
  },
  {
   "cell_type": "code",
   "execution_count": null,
   "id": "a9947266",
   "metadata": {},
   "outputs": [],
   "source": [
    "#|export\n",
    "def sort_quadrilateral(points):\n",
    "    ysorted_idxs = np.argsort(points[:, 1])\n",
    "    top_idxs, bottom_idxs = ysorted_idxs[:2], ysorted_idxs[2:]\n",
    "    xsorted_top_idxs = top_idxs[np.argsort(points[top_idxs][:, 0])]\n",
    "    xsorted_bottom_idxs = bottom_idxs[np.argsort(points[bottom_idxs][:, 0])]\n",
    "    # Combine the sorted points in the order: [top-left, top-right, bottom-left, bottom-right]\n",
    "    sorted_points = np.vstack((points[xsorted_top_idxs], points[xsorted_bottom_idxs]))\n",
    "    sorted_idxs = np.concatenate((xsorted_top_idxs, xsorted_bottom_idxs))\n",
    "    return sorted_points, sorted_idxs"
   ]
  },
  {
   "cell_type": "code",
   "execution_count": null,
   "id": "d2d36396",
   "metadata": {},
   "outputs": [],
   "source": [
    "test_points = np.array([(1.8, 2.1), (2, 0.9), (1.1, 1.95), (1, 1)])\n",
    "expected_points = np.array([(1, 1), (2, 0.9), (1.1, 1.95), (1.8, 2.1)])\n",
    "expected_idxs = np.array([3, 1, 2, 0])\n",
    "test_eq(sort_quadrilateral(test_points), (expected_points, expected_idxs))"
   ]
  },
  {
   "cell_type": "code",
   "execution_count": null,
   "id": "4395ea4b",
   "metadata": {},
   "outputs": [],
   "source": [
    "test_points = np.array([[1368.4, 1856.], [270.5, 1815.3], [1436.6, 77.7], [340.2, 27.5]])\n",
    "expected_points = np.array([[340.2, 27.5], [1436.6, 77.7], [270.5, 1815.3], [1368.4, 1856.]])\n",
    "expected_idxs = np.array([3, 2, 1, 0])\n",
    "test_eq(sort_quadrilateral(test_points), (expected_points, expected_idxs))"
   ]
  },
  {
   "cell_type": "code",
   "execution_count": null,
   "id": "c15dbecc",
   "metadata": {},
   "outputs": [],
   "source": [
    "#|export\n",
    "def kwargs_grid(**kwargs):\n",
    "    \"Returns a generator with all combinations of kwargs\"\n",
    "    return (dict(zip(kwargs.keys(), v)) for v in itertools.product(*kwargs.values()))"
   ]
  },
  {
   "cell_type": "code",
   "execution_count": null,
   "id": "c7314826",
   "metadata": {},
   "outputs": [
    {
     "data": {
      "text/plain": [
       "[{'size': (224, 224), 'alpha': 0.3, 'apply_tfms': False},\n",
       " {'size': (224, 224), 'alpha': 0.3, 'apply_tfms': True},\n",
       " {'size': (224, 224), 'alpha': 0.7, 'apply_tfms': False},\n",
       " {'size': (224, 224), 'alpha': 0.7, 'apply_tfms': True},\n",
       " {'size': (224, 224), 'alpha': 0.9, 'apply_tfms': False},\n",
       " {'size': (224, 224), 'alpha': 0.9, 'apply_tfms': True},\n",
       " {'size': (512, 512), 'alpha': 0.3, 'apply_tfms': False},\n",
       " {'size': (512, 512), 'alpha': 0.3, 'apply_tfms': True},\n",
       " {'size': (512, 512), 'alpha': 0.7, 'apply_tfms': False},\n",
       " {'size': (512, 512), 'alpha': 0.7, 'apply_tfms': True},\n",
       " {'size': (512, 512), 'alpha': 0.9, 'apply_tfms': False},\n",
       " {'size': (512, 512), 'alpha': 0.9, 'apply_tfms': True}]"
      ]
     },
     "execution_count": null,
     "metadata": {},
     "output_type": "execute_result"
    }
   ],
   "source": [
    "list(kwargs_grid(size=[(224, 224), (512, 512)], alpha=[0.3, 0.7, 0.9], apply_tfms=[False, True]))"
   ]
  },
  {
   "cell_type": "code",
   "execution_count": null,
   "id": "093e064d",
   "metadata": {},
   "outputs": [],
   "source": [
    "#|export\n",
    "@functools.wraps(zip)\n",
    "def safe_zip(*args, **kwargs):\n",
    "    if len(set(map(len, args))) not in (0, 1):\n",
    "        raise ValueError(f'All elements should have the same size, but got {[len(x) for x in args]}')\n",
    "    return zip(*args, **kwargs)"
   ]
  },
  {
   "cell_type": "code",
   "execution_count": null,
   "id": "a28afffc",
   "metadata": {},
   "outputs": [],
   "source": [
    "test_eq(list(safe_zip([1, 2], [3, 4], [5, 6])), list(zip([1, 2], [3, 4], [5, 6])))"
   ]
  },
  {
   "cell_type": "code",
   "execution_count": null,
   "id": "98a84f16",
   "metadata": {},
   "outputs": [],
   "source": [
    "test_fail(lambda: safe_zip([1, 2], [3, 4], [5]), contains='same size')"
   ]
  },
  {
   "cell_type": "code",
   "execution_count": null,
   "id": "cad7bfb2",
   "metadata": {},
   "outputs": [],
   "source": [
    "#|export\n",
    "class skip_error:\n",
    "    def __init__(self, fn, log=True):\n",
    "        'Returns the error instead of raising it.'\n",
    "        store_attr()\n",
    "        \n",
    "    def __call__(self, *args, **kwargs):\n",
    "        try: return self.fn(*args, **kwargs)\n",
    "        except Exception as e: \n",
    "            if self.log: print(f'{e} {(args, kwargs)}')\n",
    "            return e"
   ]
  },
  {
   "cell_type": "code",
   "execution_count": null,
   "id": "ff5ea94c",
   "metadata": {},
   "outputs": [
    {
     "name": "stdout",
     "output_type": "stream",
     "text": [
      "'str' object has no attribute 'get' ((), {})\n"
     ]
    },
    {
     "data": {
      "text/plain": [
       "AttributeError(\"'str' object has no attribute 'get'\")"
      ]
     },
     "execution_count": null,
     "metadata": {},
     "output_type": "execute_result"
    }
   ],
   "source": [
    "skip_error(lambda: 'test'.get(2))()"
   ]
  },
  {
   "cell_type": "code",
   "execution_count": null,
   "id": "9515b9ff",
   "metadata": {},
   "outputs": [],
   "source": [
    "#|export\n",
    "class Cache:\n",
    "    def __init__(self, func, save_dir=None, debug=False):\n",
    "        self.func = func\n",
    "        self.save_dir = Path(save_dir or Path.home()/'.cache/polvo')\n",
    "        self.debug = debug\n",
    "        \n",
    "    def get(self, name, use_cache=True, **func_kwargs):\n",
    "        path = self.save_dir/name\n",
    "        try: \n",
    "            if use_cache: \n",
    "                o = pv.open_pickle(path)\n",
    "                if self.debug: print('Using cache.')\n",
    "                return o\n",
    "        except FileNotFoundError: \n",
    "            pass\n",
    "        \n",
    "        if self.debug: print('Not using cache.')\n",
    "        x = self.func(**func_kwargs)\n",
    "        pv.mkdir(path.parent, exist_ok=True)\n",
    "        pv.save_pickle(x, path)\n",
    "        return x\n",
    "    \n",
    "    def list_cached(self, **kwargs):\n",
    "        return pv.get_files(self.save_dir, **kwargs)"
   ]
  },
  {
   "cell_type": "code",
   "execution_count": null,
   "id": "57beee0f",
   "metadata": {},
   "outputs": [
    {
     "name": "stdout",
     "output_type": "stream",
     "text": [
      "Using cache.\n"
     ]
    },
    {
     "data": {
      "text/plain": [
       "5"
      ]
     },
     "execution_count": null,
     "metadata": {},
     "output_type": "execute_result"
    }
   ],
   "source": [
    "cache = Cache(lambda x: x+1, debug=True)\n",
    "cache.get('test_cache.pkl', x=4, use_cache=True)"
   ]
  },
  {
   "cell_type": "code",
   "execution_count": null,
   "id": "9917e724",
   "metadata": {},
   "outputs": [
    {
     "data": {
      "text/plain": [
       "(#6) [Path('/home/lgvaz/.cache/polvo/test_cache444.pkl'),Path('/home/lgvaz/.cache/polvo/OpenAIEncoder-the_loop_manual_de_regras_em_portugues_211955.pdf-chunks.pkl'),Path('/home/lgvaz/.cache/polvo/test_cache.pkl'),Path('/home/lgvaz/.cache/polvo/test_cache2.pkl'),Path('/home/lgvaz/.cache/polvo/test_cache'),Path('/home/lgvaz/.cache/polvo/OpenAIEncoder/the_loop_manual_de_regras_em_portugues_211955.pdf-embeds.pkl')]"
      ]
     },
     "execution_count": null,
     "metadata": {},
     "output_type": "execute_result"
    }
   ],
   "source": [
    "cache.list_cached()"
   ]
  },
  {
   "cell_type": "code",
   "execution_count": null,
   "id": "992be69b",
   "metadata": {},
   "outputs": [],
   "source": [
    "#|export\n",
    "def transparent_cmap():\n",
    "    from matplotlib.colors import LinearSegmentedColormap\n",
    "    colors = [(0, 0, 0, 0) for _ in range(256)]\n",
    "    return LinearSegmentedColormap.from_list('transparent_cmap', colors, N=256)"
   ]
  },
  {
   "cell_type": "code",
   "execution_count": null,
   "id": "365fe801",
   "metadata": {},
   "outputs": [],
   "source": [
    "# FIND CORRECT PLACE TO PLACE THIS\n",
    "def wandb_upload(project:str, artifact_name:str, *path:str, type='dataset'):\n",
    "    \"Uploads files or dir to wandb\"\n",
    "    import wandb\n",
    "    run = wandb.init(project=project, job_type=\"data-upload\")\n",
    "    artifact = wandb.Artifact(artifact_name, type=type)\n",
    "    \n",
    "    def _add_file(p): artifact.add_file(p, p)\n",
    "    for p in path:\n",
    "        if Path(p).is_file(): _add_file(p)\n",
    "        else:\n",
    "            for f in pv.get_files(p): _add_file(f)\n",
    "\n",
    "    run.log_artifact(artifact)"
   ]
  },
  {
   "cell_type": "code",
   "execution_count": null,
   "id": "86e2cbac",
   "metadata": {},
   "outputs": [],
   "source": [
    "class ParameterIterator:\n",
    "    def __call__(self, f):\n",
    "        sig = inspect.signature(f)\n",
    "        @functools.wraps(f)\n",
    "        def wrapper(*args, **kwargs):\n",
    "            bound = sig.bind(*args, **kwargs)\n",
    "            for k, v in bound.arguments.items():\n",
    "                self.apply(k, v)\n",
    "            return f(*args, **kwargs)\n",
    "        return wrapper"
   ]
  },
  {
   "cell_type": "code",
   "execution_count": null,
   "id": "8eda6c3c",
   "metadata": {},
   "outputs": [],
   "source": [
    "def _save_image(image, save_dir): return pv.save_image(image, save_dir)\n",
    "\n",
    "class save_params(ParameterIterator):\n",
    "    _save_fns = {\n",
    "        Image: pv.save_image,\n",
    "        np.ndarray: pv.save_image,\n",
    "        numbers.Number: lambda s: pv.save_txt(s+'\\n', append=True),\n",
    "        str: lambda s: pv.save_txt(s+'\\n', append=True),\n",
    "    }\n",
    "    \n",
    "    def __init__(\n",
    "        self,\n",
    "        save_dir,\n",
    "        save_fns=None, # Dictionary of {<type>: save_fn}. `save_fn` first parameter should be the object, and second the path.\n",
    "    ):\n",
    "        \"Save all parameters of decorated function\"\n",
    "        self.save_dir = pv.mkdir(save_dir, exist_ok=True)\n",
    "        self.save_fns = save_fns or self._save_fns.copy()\n",
    "        \n",
    "    def apply(self, k, v):\n",
    "        save_fns[type(k)](v, self.save_dir)"
   ]
  },
  {
   "cell_type": "code",
   "execution_count": null,
   "id": "a72ec8a0",
   "metadata": {},
   "outputs": [],
   "source": [
    "# @save_params('foo_params')\n",
    "# def foo(a, b, c=2, d='test'):\n",
    "#     return"
   ]
  },
  {
   "cell_type": "code",
   "execution_count": null,
   "id": "9a366509",
   "metadata": {},
   "outputs": [],
   "source": [
    "#|hide\n",
    "from nbdev import nbdev_export\n",
    "nbdev_export()"
   ]
  },
  {
   "cell_type": "code",
   "execution_count": null,
   "id": "ecc96ffa",
   "metadata": {},
   "outputs": [],
   "source": []
  }
 ],
 "metadata": {
  "kernelspec": {
   "display_name": "Python [conda env:allpolvo]",
   "language": "python",
   "name": "conda-env-allpolvo-py"
  }
 },
 "nbformat": 4,
 "nbformat_minor": 5
}
