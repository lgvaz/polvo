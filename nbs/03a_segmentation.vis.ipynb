{
 "cells": [
  {
   "cell_type": "code",
   "execution_count": 9,
   "id": "a6c13673",
   "metadata": {},
   "outputs": [],
   "source": [
    "#| default_exp segmentation.vis"
   ]
  },
  {
   "cell_type": "markdown",
   "id": "3873aece",
   "metadata": {},
   "source": [
    "# segmentation visualization\n",
    "\n",
    "> API details."
   ]
  },
  {
   "cell_type": "code",
   "execution_count": 3,
   "id": "a8e945b3",
   "metadata": {},
   "outputs": [],
   "source": [
    "#|hide\n",
    "from nbdev.showdoc import *"
   ]
  },
  {
   "cell_type": "code",
   "execution_count": 5,
   "id": "a0d4bac4",
   "metadata": {},
   "outputs": [],
   "source": [
    "#| export\n",
    "import PIL\n",
    "import numpy as np\n",
    "import matplotlib as mpl"
   ]
  },
  {
   "cell_type": "code",
   "execution_count": 6,
   "id": "c8a1bb59",
   "metadata": {},
   "outputs": [],
   "source": [
    "#| export\n",
    "def overlay_mask(\n",
    "    image:PIL.Image,\n",
    "    mask:PIL.Image,\n",
    "    num_classes:int,\n",
    "    cmap:mpl.colors.Colormap=mpl.colormaps['gist_ncar'],\n",
    "    alpha:float=0.5,\n",
    "):\n",
    "    mask = np.asarray(mask)\n",
    "    \n",
    "    colored_mask = np.zeros((*mask.shape, 3), dtype=np.uint8)\n",
    "    for class_idx in np.unique(mask):\n",
    "        mask_idxs = mask == class_idx\n",
    "        colored_mask[mask_idxs] = np.array(cmap(class_idx/num_classes)[:3]) * 255\n",
    "\n",
    "    return PIL.Image.blend(image, PIL.Image.fromarray(colored_mask), alpha)"
   ]
  },
  {
   "cell_type": "code",
   "execution_count": 10,
   "id": "0d970056",
   "metadata": {},
   "outputs": [],
   "source": [
    "#| hide\n",
    "from nbdev import nbdev_export\n",
    "nbdev_export()"
   ]
  },
  {
   "cell_type": "code",
   "execution_count": null,
   "id": "39e0302a",
   "metadata": {},
   "outputs": [],
   "source": []
  }
 ],
 "metadata": {
  "kernelspec": {
   "display_name": "Python [conda env:fastai]",
   "language": "python",
   "name": "conda-env-fastai-py"
  },
  "language_info": {
   "codemirror_mode": {
    "name": "ipython",
    "version": 3
   },
   "file_extension": ".py",
   "mimetype": "text/x-python",
   "name": "python",
   "nbconvert_exporter": "python",
   "pygments_lexer": "ipython3",
   "version": "3.7.12"
  }
 },
 "nbformat": 4,
 "nbformat_minor": 5
}
