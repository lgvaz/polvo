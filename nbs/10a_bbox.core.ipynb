{
 "cells": [
  {
   "cell_type": "code",
   "execution_count": null,
   "id": "a6c13673",
   "metadata": {},
   "outputs": [],
   "source": [
    "#| default_exp bbox.core"
   ]
  },
  {
   "cell_type": "markdown",
   "id": "3873aece",
   "metadata": {},
   "source": [
    "# BBox Core\n",
    "\n",
    "> API details."
   ]
  },
  {
   "cell_type": "code",
   "execution_count": null,
   "id": "a8e945b3",
   "metadata": {},
   "outputs": [],
   "source": [
    "#|hide\n",
    "from nbdev.showdoc import *"
   ]
  },
  {
   "cell_type": "code",
   "execution_count": null,
   "id": "a0d4bac4",
   "metadata": {},
   "outputs": [
    {
     "name": "stderr",
     "output_type": "stream",
     "text": [
      "/home/lgvaz/git/polvo/polvo/utils/logging.py:8: TqdmExperimentalWarning: Using `tqdm.autonotebook.tqdm` in notebook mode. Use `tqdm.tqdm` instead to force console mode (e.g. in jupyter console)\n",
      "  from tqdm.autonotebook import tqdm\n"
     ]
    }
   ],
   "source": [
    "#| export\n",
    "from fastcore.all import *\n",
    "import math\n",
    "import numpy as np\n",
    "import polvo as pv"
   ]
  },
  {
   "cell_type": "code",
   "execution_count": null,
   "id": "f49d25a9",
   "metadata": {},
   "outputs": [],
   "source": [
    "#TODO: With points sorted, xmax,ymin, etc can be directly indexed"
   ]
  },
  {
   "cell_type": "code",
   "execution_count": null,
   "id": "ac2a31da",
   "metadata": {},
   "outputs": [
    {
     "data": {
      "text/plain": [
       "<function numpy.reshape(a, newshape, order='C')>"
      ]
     },
     "execution_count": null,
     "metadata": {},
     "output_type": "execute_result"
    }
   ],
   "source": [
    "np.reshape"
   ]
  },
  {
   "cell_type": "code",
   "execution_count": null,
   "id": "105ef09f",
   "metadata": {},
   "outputs": [],
   "source": [
    "#|export\n",
    "class _BBox:\n",
    "    def __init__(self, points):\n",
    "        self.points, _ = pv.sort_quadrilateral(np.array(points))\n",
    "\n",
    "    @classmethod\n",
    "    def from_points(cls, points): return cls(points)\n",
    "    @classmethod\n",
    "    def from_flat(cls, points): return cls(np.reshape(points, (4, 2)))"
   ]
  },
  {
   "cell_type": "code",
   "execution_count": null,
   "id": "a38462e1",
   "metadata": {},
   "outputs": [],
   "source": [
    "#|export\n",
    "class BBox(_BBox):\n",
    "    \"\"\"Bounding Box representation.\n",
    "    Should **not** be instantiated directly, instead use `from_*` methods. e.g. `from_xyxy`, `from_xywh`.\n",
    "    Is able to transform coordinates into different formats, e.g. `xyxy`, `xywh`.\n",
    "    \n",
    "    # Examples\n",
    "    Create from `xywh` format, and get `xyxy` coordinates.\n",
    "    ```python\n",
    "    bbox = BBox.from_xywh(1, 1, 4, 4)\n",
    "    xyxy = bbox.xyxy\n",
    "    ```\n",
    "    \"\"\"\n",
    "    def __repr__(self):\n",
    "        return f\"<{self.__class__.__name__} (xmin:{self.xmin}, ymin:{self.ymin}, xmax:{self.xmax}, ymax:{self.ymax})>\"\n",
    "\n",
    "    def __eq__(self, other) -> bool:\n",
    "        if isinstance(other, BBox): return self.xyxyxyxy == other.xyxyxyxy\n",
    "        return False\n",
    "    \n",
    "    @property\n",
    "    def xmin(self): return self.points[:, 0].min()\n",
    "    @property\n",
    "    def xmax(self): return self.points[:, 0].max()\n",
    "    @property\n",
    "    def ymin(self): return self.points[:, 1].min()\n",
    "    @property\n",
    "    def ymax(self): return self.points[:, 1].max()\n",
    "\n",
    "    @property\n",
    "    def width(self): return self.xmax-self.xmin\n",
    "    @property\n",
    "    def height(self): return self.ymax-self.ymin\n",
    "    @property\n",
    "    def area(self): return self.width*self.height\n",
    "    @property\n",
    "    def xyxy(self): return self.xmin, self.ymin, self.xmax, self.ymax\n",
    "    @property\n",
    "    def yxyx(self): return self.ymin, self.xmin, self.ymax, self.xmax\n",
    "    @property\n",
    "    def xywh(self): return self.xmin, self.ymin, self.width, self.height\n",
    "    @property\n",
    "    def xyxyxyxy(self): return self.xmin,self.ymin, self.xmax,self.ymin, self.xmax,self.ymax, self.xmin,self.ymax\n",
    "\n",
    "    def relative_xcycwh(self, img_width: int, img_height: int):\n",
    "        scale = np.array([img_width, img_height, img_width, img_height])\n",
    "        x, y, w, h = self.xywh / scale\n",
    "        xc = x + 0.5*w\n",
    "        yc = y + 0.5*h\n",
    "        return (xc, yc, w, h)\n",
    "\n",
    "    @classmethod\n",
    "    def from_xywh(cls, x, y, w, h): return cls.from_xyxy(x, y, x+w, y+h)\n",
    "    @classmethod\n",
    "    def from_xyxy(cls, xmin, ymin, xmax, ymax): return cls.from_flat((xmin,ymin, xmax,ymin, xmax,ymax, xmin,ymax))\n",
    "    @classmethod\n",
    "    def from_relative_xcycwh(cls, xc, yc, bw, bh, img_width, img_height):\n",
    "        # subtracting 0.5 goes from center to left/upper edge, adding goes to right/bottom\n",
    "        pnts = [(xc - 0.5*bw), (yc - 0.5*bh), (xc + 0.5*bw), (yc + 0.5*bh)]\n",
    "        # convert from relative to absolute coordinates\n",
    "        scale = np.array([img_width, img_height, img_width, img_height])\n",
    "        xmin, ymin, xmax, ymax = np.around(pnts * scale).astype(int).tolist()\n",
    "        return cls.from_xyxy(xmin, ymin, xmax, ymax)\n",
    "    @classmethod\n",
    "    def from_rle(cls, rle, h, w):\n",
    "        a = np.array(rle.counts, dtype=int)\n",
    "        a = a.reshape((-1, 2))  # an array of (start, length) pairs\n",
    "        a[:, 0] -= 1  # `start` is 1-indexed\n",
    "        y0 = a[:, 0] % h\n",
    "        y1 = y0 + a[:, 1]\n",
    "        if np.any(y1 > h):\n",
    "            # got `y` overrun, meaning that there are a pixels in mask on 0 and shape[0] position\n",
    "            y0 = 0\n",
    "            y1 = h\n",
    "        else:\n",
    "            y0 = np.min(y0)\n",
    "            y1 = np.max(y1)\n",
    "        x0 = a[:, 0] // h\n",
    "        x1 = (a[:, 0] + a[:, 1]) // h\n",
    "        x0 = np.min(x0)\n",
    "        x1 = np.max(x1)\n",
    "        if x1 > w:\n",
    "            # just went out of the image dimensions\n",
    "            raise ValueError(f\"invalid RLE or image dimensions: x1={x1} > shape[1]={w}\")\n",
    "        return cls.from_xyxy(x0, y0, x1, y1)"
   ]
  },
  {
   "cell_type": "code",
   "execution_count": null,
   "id": "49df8410",
   "metadata": {},
   "outputs": [],
   "source": [
    "bbox = BBox.from_xyxy(1, 2, 3, 4)\n",
    "\n",
    "test_eq(bbox.xyxy, (1, 2, 3, 4))\n",
    "test_eq(bbox.yxyx, (2, 1, 4, 3))\n",
    "test_eq(bbox.xywh, (1, 2, 2, 2))"
   ]
  },
  {
   "cell_type": "code",
   "execution_count": null,
   "id": "d826a806",
   "metadata": {},
   "outputs": [],
   "source": [
    "bbox = BBox.from_xywh(10, 72, 478, 72)\n",
    "test_eq(bbox.xyxy, (10, 72, 10+478, 72+72))"
   ]
  },
  {
   "cell_type": "code",
   "execution_count": null,
   "id": "9610a37f",
   "metadata": {},
   "outputs": [],
   "source": [
    "w, h = 640, 480\n",
    "xcycwh = (0.7, 0.2, 0.1, 0.2)\n",
    "bbox = BBox.from_relative_xcycwh(*xcycwh, img_width=w, img_height=h)\n",
    "\n",
    "test_eq(bbox.xyxy, (416, 48, 480, 144))\n",
    "test_close(bbox.relative_xcycwh(img_width=w, img_height=h), xcycwh)"
   ]
  },
  {
   "cell_type": "code",
   "execution_count": null,
   "id": "c3cf82d7",
   "metadata": {},
   "outputs": [],
   "source": [
    "#|export\n",
    "class OBBox(_BBox):\n",
    "    @classmethod\n",
    "    def from_clockwise(cls, x,y, w,h, degrees):\n",
    "        r = math.radians(degrees)\n",
    "        sinr, cosr = math.sin(r), math.cos(r)\n",
    "        x2 = x+cosr*w\n",
    "        y2 = y+sinr*w\n",
    "        x3 = x+cosr*w-sinr*h\n",
    "        y3 = y+sinr*w+cosr*h\n",
    "        x4 = x-sinr*h\n",
    "        y4 = y+cosr*h\n",
    "        \n",
    "        return cls.from_flat((x,y, x2,y2, x3,y3, x4,y4))\n",
    "    \n",
    "    def __repr__(self):\n",
    "#         return f\"<{self.__class__.__name__} (x1:{self.x1},y1:{self.y1}, x2:{self.x2},y2:{self.y2}, x3:{self.x3},y3:{self.y3}, x4:{self.x4},y4:{self.y4})>\"\n",
    "#         return f\"<{self.__class__.__name__} (({self.x1},{self.y1}), ({self.x2},{self.y2}), ({self.x3},{self.y3}), ({self.x4},{self.y4}))>\"\n",
    "        return f\"<{self.__class__.__name__} ({self.points})>\""
   ]
  },
  {
   "cell_type": "code",
   "execution_count": null,
   "id": "61cb6d27",
   "metadata": {},
   "outputs": [],
   "source": [
    "obbox1 = OBBox.from_flat((60,20, 60,120, 10,120, 10,20)) # non-rotated\n",
    "test_eq(obbox1.points, np.array(((10,20), (60,20), (60,120), (10, 120))))"
   ]
  },
  {
   "cell_type": "code",
   "execution_count": null,
   "id": "a7aaf458",
   "metadata": {},
   "outputs": [],
   "source": [
    "obbox2 = OBBox.from_clockwise(60,20, 100,50, math.degrees(math.asin(4/5))) #rotated \n",
    "obbox3 = OBBox.from_flat((60,20, 120,100, 80,130, 20,50)) # rotated \n",
    "test_close(obbox2.points, obbox3.points)"
   ]
  },
  {
   "cell_type": "code",
   "execution_count": null,
   "id": "0d970056",
   "metadata": {},
   "outputs": [],
   "source": [
    "#| hide\n",
    "from nbdev import nbdev_export\n",
    "nbdev_export()"
   ]
  },
  {
   "cell_type": "code",
   "execution_count": null,
   "id": "39e0302a",
   "metadata": {},
   "outputs": [],
   "source": []
  }
 ],
 "metadata": {
  "kernelspec": {
   "display_name": "Python [conda env:allpolvo]",
   "language": "python",
   "name": "conda-env-allpolvo-py"
  }
 },
 "nbformat": 4,
 "nbformat_minor": 5
}
