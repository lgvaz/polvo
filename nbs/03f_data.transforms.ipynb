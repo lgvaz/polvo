{
 "cells": [
  {
   "cell_type": "code",
   "execution_count": null,
   "id": "620a6dca",
   "metadata": {},
   "outputs": [],
   "source": [
    "#|default_exp data.transforms"
   ]
  },
  {
   "cell_type": "markdown",
   "id": "d828c6ea",
   "metadata": {},
   "source": [
    "# Data Transforms\n",
    "\n",
    "> Data transformation, all transforms are done with numpy"
   ]
  },
  {
   "cell_type": "code",
   "execution_count": null,
   "id": "5eebcd9f",
   "metadata": {},
   "outputs": [
    {
     "name": "stderr",
     "output_type": "stream",
     "text": [
      "/home/michael/git/polvo/polvo/utils/logging.py:8: TqdmExperimentalWarning: Using `tqdm.autonotebook.tqdm` in notebook mode. Use `tqdm.tqdm` instead to force console mode (e.g. in jupyter console)\n",
      "  from tqdm.autonotebook import tqdm\n"
     ]
    }
   ],
   "source": [
    "#|export\n",
    "from fastcore.all import *\n",
    "from PIL import Image\n",
    "import numpy as np\n",
    "import polvo as pv"
   ]
  },
  {
   "cell_type": "code",
   "execution_count": null,
   "id": "b98b4d0b",
   "metadata": {},
   "outputs": [],
   "source": [
    "#|export\n",
    "def np2pil(image): return Image.fromarray(image)"
   ]
  },
  {
   "cell_type": "code",
   "execution_count": null,
   "id": "5bb161d9",
   "metadata": {},
   "outputs": [],
   "source": [
    "#|export\n",
    "def pil2np(image): return np.array(image)"
   ]
  },
  {
   "cell_type": "code",
   "execution_count": null,
   "id": "f640cc06",
   "metadata": {},
   "outputs": [],
   "source": [
    "#|export\n",
    "class AlignOrientation():\n",
    "    def __init__(self, orientation='vertical', **kwargs):\n",
    "        \"Keep all images in same orientation\"\n",
    "        self.orientation = orientation\n",
    "        \n",
    "    def transform(self, x:np.ndarray):\n",
    "        h, w = x.shape[:2]\n",
    "        if (w>h and self.orientation=='vertical') or (h>w and self.orientation=='horizontal'):\n",
    "            self._rotated = True\n",
    "            return np.rot90(x)\n",
    "        self._rotated = False\n",
    "        return x\n",
    "    \n",
    "    def reverse(self, x:np.array):\n",
    "        if self._rotated: return np.rot90(x)\n",
    "        return x"
   ]
  },
  {
   "cell_type": "code",
   "execution_count": null,
   "id": "b38a8ff5",
   "metadata": {},
   "outputs": [
    {
     "data": {
      "text/plain": [
       "<AxesSubplot:>"
      ]
     },
     "execution_count": null,
     "metadata": {},
     "output_type": "execute_result"
    },
    {
     "data": {
      "image/png": "[encoded data removed]",
      "text/plain": [
       "<Figure size 432x288 with 1 Axes>"
      ]
     },
     "metadata": {
      "needs_background": "light"
     },
     "output_type": "display_data"
    }
   ],
   "source": [
    "image = np.zeros((100, 200), dtype=np.uint8)\n",
    "orient = AlignOrientation('vertical')\n",
    "image = orient.transform(image)\n",
    "pv.show_image(image)"
   ]
  },
  {
   "cell_type": "code",
   "execution_count": null,
   "id": "02d34fcc",
   "metadata": {},
   "outputs": [
    {
     "data": {
      "text/plain": [
       "<AxesSubplot:>"
      ]
     },
     "execution_count": null,
     "metadata": {},
     "output_type": "execute_result"
    },
    {
     "data": {
      "image/png": "[encoded data removed]",
      "text/plain": [
       "<Figure size 432x288 with 1 Axes>"
      ]
     },
     "metadata": {
      "needs_background": "light"
     },
     "output_type": "display_data"
    }
   ],
   "source": [
    "pv.show_image(orient.reverse(image))"
   ]
  },
  {
   "cell_type": "code",
   "execution_count": null,
   "id": "dc9e4d0d",
   "metadata": {},
   "outputs": [
    {
     "data": {
      "text/plain": [
       "<AxesSubplot:>"
      ]
     },
     "execution_count": null,
     "metadata": {},
     "output_type": "execute_result"
    },
    {
     "data": {
      "image/png": "[encoded data removed]",
      "text/plain": [
       "<Figure size 432x288 with 1 Axes>"
      ]
     },
     "metadata": {
      "needs_background": "light"
     },
     "output_type": "display_data"
    }
   ],
   "source": [
    "image = np.zeros((100, 200), dtype=np.uint8)\n",
    "orient = AlignOrientation('horizontal')\n",
    "image = orient.transform(image)\n",
    "pv.show_image(image)"
   ]
  },
  {
   "cell_type": "code",
   "execution_count": null,
   "id": "ad0177cd",
   "metadata": {},
   "outputs": [
    {
     "data": {
      "text/plain": [
       "<AxesSubplot:>"
      ]
     },
     "execution_count": null,
     "metadata": {},
     "output_type": "execute_result"
    },
    {
     "data": {
      "image/png": "[encoded data removed]",
      "text/plain": [
       "<Figure size 432x288 with 1 Axes>"
      ]
     },
     "metadata": {
      "needs_background": "light"
     },
     "output_type": "display_data"
    }
   ],
   "source": [
    "pv.show_image(orient.reverse(image))"
   ]
  },
  {
   "cell_type": "code",
   "execution_count": null,
   "id": "9a366509",
   "metadata": {},
   "outputs": [],
   "source": [
    "#|hide\n",
    "from nbdev import nbdev_export\n",
    "nbdev_export()"
   ]
  },
  {
   "cell_type": "code",
   "execution_count": null,
   "id": "ecc96ffa",
   "metadata": {},
   "outputs": [],
   "source": []
  }
 ],
 "metadata": {
  "kernelspec": {
   "display_name": "conda-env-pokev2.1-py",
   "language": "python",
   "name": "conda-env-pokev2.1-py"
  }
 },
 "nbformat": 4,
 "nbformat_minor": 5
}
