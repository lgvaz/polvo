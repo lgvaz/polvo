{
 "cells": [
  {
   "cell_type": "code",
   "execution_count": null,
   "id": "a6c13673",
   "metadata": {},
   "outputs": [],
   "source": [
    "#| default_exp bbox.vis"
   ]
  },
  {
   "cell_type": "markdown",
   "id": "3873aece",
   "metadata": {},
   "source": [
    "# Visualization\n",
    "\n",
    "> API details."
   ]
  },
  {
   "cell_type": "code",
   "execution_count": null,
   "id": "a8e945b3",
   "metadata": {},
   "outputs": [],
   "source": [
    "#|hide\n",
    "from nbdev.showdoc import *"
   ]
  },
  {
   "cell_type": "code",
   "execution_count": null,
   "id": "a0d4bac4",
   "metadata": {},
   "outputs": [
    {
     "name": "stderr",
     "output_type": "stream",
     "text": [
      "/home/lgvaz/git/polvo/polvo/utils/logging.py:8: TqdmExperimentalWarning: Using `tqdm.autonotebook.tqdm` in notebook mode. Use `tqdm.tqdm` instead to force console mode (e.g. in jupyter console)\n",
      "  from tqdm.autonotebook import tqdm\n"
     ]
    }
   ],
   "source": [
    "#| export\n",
    "import PIL\n",
    "import numpy as np\n",
    "import polvo as pv\n",
    "from typing import Tuple\n",
    "from PIL import Image\n",
    "from PIL.ImageDraw import ImageDraw\n",
    "from polvo.bbox import BBox"
   ]
  },
  {
   "cell_type": "code",
   "execution_count": null,
   "id": "bb8055dc",
   "metadata": {},
   "outputs": [],
   "source": [
    "def overlay(image:PIL.Image, bbox:pv.bbox.BBox, color:Tuple[int,int,int], gap:bool=True):\n",
    "    \"\"\"Draws a box on an image with a given color.\n",
    "    # Arguments\n",
    "        image     : The image to draw on.\n",
    "        box       : A list of 4 elements (x1, y1, x2, y2).\n",
    "        color     : The color of the box.\n",
    "    \"\"\"\n",
    "\n",
    "    draw = PIL.ImageDraw.Draw(image)\n",
    "    # corner thickness is linearly correlated with the smaller image dimension.\n",
    "    # We use the smaller image dimension rather than image area so as to avoid\n",
    "    # overly thick lines for large non-square images prior to transforming\n",
    "    # images. We set lower and upper bounds for corner thickness.\n",
    "    min_size = min(image.size)\n",
    "    corner_thickness = min(int(0.005*min_size + 1), 15)\n",
    "    corner_length = int(0.021*min_size + 2.25)\n",
    "    # inner thickness of bboxes with corners\n",
    "    inner_thickness = int(0.0005*min_size + 1)\n",
    "    # bbox thickness of bboxes without corners\n",
    "    bbox_thickness = int(0.0041*min_size - 0.0058)\n",
    "    bbox_thickness = np.clip(bbox_thickness, 1, 8)\n",
    "    \n",
    "    xmin, ymin, xmax, ymax = np.array(bbox.xyxy, dtype=int)\n",
    "    if not gap:\n",
    "        draw.rectangle((xmin, ymin, xmax, ymax), fill=None, outline=color, width=bbox_thickness)\n",
    "        return image\n",
    "\n",
    "    points = [0] * 12\n",
    "    points[0] = (xmin, ymin + corner_length)\n",
    "    points[1] = (xmin, ymin)\n",
    "    points[2] = (xmin + corner_length, ymin)\n",
    "\n",
    "    points[3] = (xmax - corner_length, ymin)\n",
    "    points[4] = (xmax, ymin)\n",
    "    points[5] = (xmax, ymin + corner_length)\n",
    "\n",
    "    points[6] = (xmax, ymax - corner_length)\n",
    "    points[7] = (xmax, ymax)\n",
    "    points[8] = (xmax - corner_length, ymax)\n",
    "\n",
    "    points[9] = (xmin + corner_length, ymax)\n",
    "    points[10] = (xmin, ymax)\n",
    "    points[11] = (xmin, ymax - corner_length)\n",
    "\n",
    "    if (ymax - (ymin + 4*corner_length) < corner_length or\n",
    "        xmax - (xmin + 4*corner_length) < corner_length):\n",
    "        for i in range(4):\n",
    "            draw.line(xy=(points[i*3 + 1], points[10 - 3*i]), fill=color, width=bbox_thickness)\n",
    "        for i in range(2):\n",
    "            draw.line(xy=(points[6*i + 1], points[i*6 + 4]), fill=color, width=bbox_thickness)\n",
    "    else:\n",
    "        for i in range(2):\n",
    "            for j in range(2):\n",
    "                draw.line(xy=(points[i*6 + j*4], points[i*6 + j*4 + 1]), fill=color, width=corner_thickness, joint=None)\n",
    "                draw.line(xy=(points[i*3 + 1], points[10 - 3*i]), fill=color, width=inner_thickness, joint=None)\n",
    "        for i in range(2):\n",
    "            for j in range(2):\n",
    "                draw.line(xy=(points[i*6 + j*2 + 1], points[i*6 + j*2 + 2]), fill=color, width=corner_thickness, joint=None)\n",
    "                draw.line(xy=(points[6*i + 1], points[i*6 + 4]), fill=color, width=inner_thickness, joint=None)\n",
    "\n",
    "    return image"
   ]
  },
  {
   "cell_type": "code",
   "execution_count": null,
   "id": "9386519a",
   "metadata": {},
   "outputs": [
    {
     "data": {
      "text/plain": [
       "<AxesSubplot:>"
      ]
     },
     "execution_count": null,
     "metadata": {},
     "output_type": "execute_result"
    },
    {
     "data": {
      "image/png": "[encoded data removed]",
      "text/plain": [
       "<Figure size 640x480 with 1 Axes>"
      ]
     },
     "metadata": {},
     "output_type": "display_data"
    }
   ],
   "source": [
    "image = PIL.Image.fromarray(np.zeros((300, 512, 3), dtype=np.uint8))\n",
    "image = overlay(image, BBox.from_xyxy(20, 20, 64, 280), (100, 100, 255))\n",
    "image = overlay(image, BBox.from_xywh(10, 72, 478, 72), (100, 200, 155), gap=False)\n",
    "image = overlay(image, BBox.from_relative_xcycwh(.4, .4, .7, .6, 512, 300), (199, 100, 155))\n",
    "pv.show_image(image)"
   ]
  },
  {
   "cell_type": "code",
   "execution_count": null,
   "id": "0d970056",
   "metadata": {},
   "outputs": [],
   "source": [
    "#| hide\n",
    "from nbdev import nbdev_export\n",
    "nbdev_export()"
   ]
  },
  {
   "cell_type": "code",
   "execution_count": null,
   "id": "39e0302a",
   "metadata": {},
   "outputs": [],
   "source": []
  }
 ],
 "metadata": {
  "kernelspec": {
   "display_name": "Python [conda env:allpolvo]",
   "language": "python",
   "name": "conda-env-allpolvo-py"
  }
 },
 "nbformat": 4,
 "nbformat_minor": 5
}
