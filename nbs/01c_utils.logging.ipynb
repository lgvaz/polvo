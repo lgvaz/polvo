{
 "cells": [
  {
   "cell_type": "code",
   "execution_count": null,
   "id": "620a6dca",
   "metadata": {},
   "outputs": [],
   "source": [
    "#|default_exp utils.logging"
   ]
  },
  {
   "cell_type": "markdown",
   "id": "d828c6ea",
   "metadata": {},
   "source": [
    "# Logging utils.\n",
    "\n",
    "> Utility functions for general logging."
   ]
  },
  {
   "cell_type": "code",
   "execution_count": null,
   "id": "5eebcd9f",
   "metadata": {},
   "outputs": [
    {
     "name": "stderr",
     "output_type": "stream",
     "text": [
      "/home/lgvaz/miniconda3/envs/allpolvo/lib/python3.7/site-packages/ipykernel_launcher.py:3: TqdmExperimentalWarning: Using `tqdm.autonotebook.tqdm` in notebook mode. Use `tqdm.tqdm` instead to force console mode (e.g. in jupyter console)\n",
      "  This is separate from the ipykernel package so we can avoid doing imports until\n"
     ]
    }
   ],
   "source": [
    "#|export\n",
    "from time import sleep\n",
    "from tqdm.autonotebook import tqdm"
   ]
  },
  {
   "cell_type": "code",
   "execution_count": null,
   "id": "ce954d86",
   "metadata": {},
   "outputs": [],
   "source": [
    "#|export\n",
    "def pbar(*args, show=True, total=None, **kwargs): \n",
    "    return tqdm(*args, total=total, **kwargs) if show else iter"
   ]
  },
  {
   "cell_type": "code",
   "execution_count": null,
   "id": "dfd48148",
   "metadata": {},
   "outputs": [
    {
     "data": {
      "application/vnd.jupyter.widget-view+json": {
       "model_id": "fa755885826344d18f0efd81a9c53971",
       "version_major": 2,
       "version_minor": 0
      },
      "text/plain": [
       "  0%|          | 0/10 [00:00<?, ?it/s]"
      ]
     },
     "metadata": {},
     "output_type": "display_data"
    }
   ],
   "source": [
    "for _ in pbar(range(10)): sleep(0.01)"
   ]
  },
  {
   "cell_type": "code",
   "execution_count": null,
   "id": "9a366509",
   "metadata": {},
   "outputs": [],
   "source": [
    "#|hide\n",
    "from nbdev import nbdev_export\n",
    "nbdev_export()"
   ]
  },
  {
   "cell_type": "code",
   "execution_count": null,
   "id": "ecc96ffa",
   "metadata": {},
   "outputs": [],
   "source": []
  }
 ],
 "metadata": {
  "kernelspec": {
   "display_name": "Python [conda env:allpolvo]",
   "language": "python",
   "name": "conda-env-allpolvo-py"
  }
 },
 "nbformat": 4,
 "nbformat_minor": 5
}
