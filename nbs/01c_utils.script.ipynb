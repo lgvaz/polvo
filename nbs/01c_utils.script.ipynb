{
 "cells": [
  {
   "cell_type": "code",
   "execution_count": null,
   "id": "620a6dca",
   "metadata": {},
   "outputs": [],
   "source": [
    "#|default_exp utils.script"
   ]
  },
  {
   "cell_type": "markdown",
   "id": "d828c6ea",
   "metadata": {},
   "source": [
    "# Script\n",
    "\n",
    "> Helper functions for creating scripts."
   ]
  },
  {
   "cell_type": "code",
   "execution_count": null,
   "id": "edb679a6",
   "metadata": {},
   "outputs": [],
   "source": [
    "#|export\n",
    "from fastcore.all import *\n",
    "import inspect"
   ]
  },
  {
   "cell_type": "code",
   "execution_count": null,
   "id": "6e3c1e87",
   "metadata": {},
   "outputs": [],
   "source": [
    "#|export\n",
    "def call_parse(func=None, nested=False):\n",
    "    \"\"\"Decorator to create a simple CLI from `func` using `anno_parser`\n",
    "    Copied from: https://github.com/fastai/fastcore/blob/master/fastcore/script.py with a single change (marked by comment)\n",
    "    \"\"\"\n",
    "    if func is None: return partial(call_parse, nested=nested)\n",
    "\n",
    "    @functools.wraps(func)\n",
    "    def _f(*args, **kwargs):\n",
    "        mod = inspect.getmodule(inspect.currentframe().f_back)\n",
    "        if not mod: return func(*args, **kwargs)\n",
    "        if not SCRIPT_INFO.func and mod.__name__==\"__main__\": SCRIPT_INFO.func = func.__name__\n",
    "        if len(sys.argv)>1 and sys.argv[1]=='': sys.argv.pop(1)\n",
    "        p = anno_parser(func)\n",
    "        if nested: args, sys.argv[1:] = p.parse_known_args()\n",
    "        else: args = p.parse_args()\n",
    "        args = args.__dict__\n",
    "        xtra = otherwise(args.pop('xtra', ''), eq(1), p.prog)\n",
    "        tfunc = trace(func) if args.pop('pdb', False) else func\n",
    "        # CHANGED: Uses `print` instead of `return`, so output can be piped in terminal commands\n",
    "        print(tfunc(**merge(args, args_from_prog(func, xtra)))) \n",
    "\n",
    "    mod = inspect.getmodule(inspect.currentframe().f_back)\n",
    "    if getattr(mod, '__name__', '') ==\"__main__\":\n",
    "        setattr(mod, func.__name__, _f)\n",
    "        SCRIPT_INFO.func = func.__name__\n",
    "        return _f()\n",
    "        \n",
    "    else: return _f"
   ]
  },
  {
   "cell_type": "code",
   "execution_count": null,
   "id": "cce5dae5",
   "metadata": {},
   "outputs": [],
   "source": [
    "#|export\n",
    "@call_parse\n",
    "def test_script(msg:Param(\"The message\", str),\n",
    "                upper:Param(\"Convert to uppercase?\", store_true)=False):\n",
    "    \"Print `msg`, optionally converting to uppercase\"\n",
    "    return msg.upper() if upper else msg"
   ]
  },
  {
   "cell_type": "code",
   "execution_count": null,
   "id": "e24b1ffd",
   "metadata": {},
   "outputs": [],
   "source": [
    "test_eq(test_script('test'), 'test')"
   ]
  },
  {
   "cell_type": "code",
   "execution_count": null,
   "id": "9a366509",
   "metadata": {},
   "outputs": [],
   "source": [
    "#|hide\n",
    "from nbdev import nbdev_export\n",
    "nbdev_export()"
   ]
  },
  {
   "cell_type": "code",
   "execution_count": null,
   "id": "ecc96ffa",
   "metadata": {},
   "outputs": [],
   "source": []
  }
 ],
 "metadata": {
  "kernelspec": {
   "display_name": "Python [conda env:allpolvo]",
   "language": "python",
   "name": "conda-env-allpolvo-py"
  }
 },
 "nbformat": 4,
 "nbformat_minor": 5
}
