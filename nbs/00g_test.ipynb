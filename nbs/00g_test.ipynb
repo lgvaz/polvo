{
 "cells": [
  {
   "cell_type": "code",
   "execution_count": null,
   "id": "620a6dca",
   "metadata": {},
   "outputs": [],
   "source": [
    "#|default_exp test"
   ]
  },
  {
   "cell_type": "markdown",
   "id": "d828c6ea",
   "metadata": {},
   "source": [
    "# Test\n",
    "\n",
    "> Test functions."
   ]
  },
  {
   "cell_type": "code",
   "execution_count": null,
   "id": "5eebcd9f",
   "metadata": {},
   "outputs": [],
   "source": [
    "#|export\n",
    "import polvo as pv\n",
    "from pathlib import Path"
   ]
  },
  {
   "cell_type": "code",
   "execution_count": null,
   "id": "ddc5cd6b",
   "metadata": {},
   "outputs": [],
   "source": [
    "#|export\n",
    "ROOT_DIR =  Path(pv.__file__).parent.parent/'assets'\n",
    "SEG_IMAGE = ROOT_DIR/'segmentation/image1.png'\n",
    "SEG_MASK = ROOT_DIR/'segmentation/mask1.png'"
   ]
  },
  {
   "cell_type": "code",
   "execution_count": null,
   "id": "9a366509",
   "metadata": {},
   "outputs": [],
   "source": [
    "#|hide\n",
    "from nbdev import nbdev_export\n",
    "nbdev_export()"
   ]
  },
  {
   "cell_type": "code",
   "execution_count": null,
   "id": "ecc96ffa",
   "metadata": {},
   "outputs": [],
   "source": []
  }
 ],
 "metadata": {
  "kernelspec": {
   "display_name": "Python [conda env:allpolvo]",
   "language": "python",
   "name": "conda-env-allpolvo-py"
  }
 },
 "nbformat": 4,
 "nbformat_minor": 5
}
