{
 "cells": [
  {
   "cell_type": "code",
   "execution_count": 1,
   "id": "620a6dca",
   "metadata": {},
   "outputs": [],
   "source": [
    "#|default_exp utils"
   ]
  },
  {
   "cell_type": "markdown",
   "id": "d828c6ea",
   "metadata": {},
   "source": [
    "# Utils\n",
    "\n",
    "> Utility functions."
   ]
  },
  {
   "cell_type": "code",
   "execution_count": 2,
   "id": "5eebcd9f",
   "metadata": {},
   "outputs": [],
   "source": [
    "#|export\n",
    "import uuid, json\n",
    "from IPython.display import display_javascript, display_html, display"
   ]
  },
  {
   "cell_type": "code",
   "execution_count": 3,
   "id": "08b01799",
   "metadata": {},
   "outputs": [],
   "source": [
    "#|export\n",
    "class RenderDict:\n",
    "    \"From https://www.reddit.com/r/IPython/comments/34t4m7/lpt_print_json_in_collapsible_format_in_ipython/\"\n",
    "    def __init__(self, json_data):\n",
    "        if isinstance(json_data, dict):\n",
    "            self.json_str = json.dumps(json_data)\n",
    "        else:\n",
    "            self.json_str = json_data\n",
    "        self.uuid = str(uuid.uuid4())\n",
    "\n",
    "    def _ipython_display_(self):\n",
    "        display_html('<div id=\"{}\" style=\"height: 600px; width:100%;\"></div>'.format(self.uuid), raw=True)\n",
    "        display_javascript(\"\"\"\n",
    "        require([\"https://rawgit.com/caldwell/renderjson/master/renderjson.js\"], function() {\n",
    "        document.getElementById('%s').appendChild(renderjson(%s))\n",
    "        });\n",
    "        \"\"\" % (self.uuid, self.json_str), raw=True)"
   ]
  },
  {
   "cell_type": "code",
   "execution_count": 5,
   "id": "3db14582",
   "metadata": {},
   "outputs": [
    {
     "data": {
      "text/html": [
       "<div id=\"52082906-1ec7-4f7d-817b-a369660d2af3\" style=\"height: 600px; width:100%;\"></div>"
      ]
     },
     "metadata": {},
     "output_type": "display_data"
    },
    {
     "data": {
      "application/javascript": [
       "\n",
       "        require([\"https://rawgit.com/caldwell/renderjson/master/renderjson.js\"], function() {\n",
       "        document.getElementById('52082906-1ec7-4f7d-817b-a369660d2af3').appendChild(renderjson({\"h1\": {\"h2.1\": [1, 2, 3, 4], \"h2.2\": \"a\"}}))\n",
       "        });\n",
       "        "
      ]
     },
     "metadata": {},
     "output_type": "display_data"
    }
   ],
   "source": [
    "RenderDict({'h1': {'h2.1': [1, 2, 3, 4], 'h2.2': 'a'}})"
   ]
  },
  {
   "cell_type": "code",
   "execution_count": 4,
   "id": "0aeb97b7",
   "metadata": {},
   "outputs": [],
   "source": [
    "#|export\n",
    "def read_json(path):\n",
    "    with open(str(path)) as f:\n",
    "        return json.load(f)"
   ]
  },
  {
   "cell_type": "code",
   "execution_count": 4,
   "id": "9a366509",
   "metadata": {},
   "outputs": [],
   "source": [
    "#| hide\n",
    "from nbdev import nbdev_export\n",
    "nbdev_export()"
   ]
  },
  {
   "cell_type": "code",
   "execution_count": null,
   "id": "7cddce3e",
   "metadata": {},
   "outputs": [],
   "source": []
  },
  {
   "cell_type": "code",
   "execution_count": null,
   "id": "ecc96ffa",
   "metadata": {},
   "outputs": [],
   "source": []
  }
 ],
 "metadata": {
  "kernelspec": {
   "display_name": "Python [conda env:fastai]",
   "language": "python",
   "name": "conda-env-fastai-py"
  },
  "language_info": {
   "codemirror_mode": {
    "name": "ipython",
    "version": 3
   },
   "file_extension": ".py",
   "mimetype": "text/x-python",
   "name": "python",
   "nbconvert_exporter": "python",
   "pygments_lexer": "ipython3",
   "version": "3.7.12"
  }
 },
 "nbformat": 4,
 "nbformat_minor": 5
}
