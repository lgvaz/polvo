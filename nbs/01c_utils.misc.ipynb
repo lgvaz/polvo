{
 "cells": [
  {
   "cell_type": "code",
   "execution_count": null,
   "id": "620a6dca",
   "metadata": {},
   "outputs": [],
   "source": [
    "#|default_exp utils.misc"
   ]
  },
  {
   "cell_type": "markdown",
   "id": "d828c6ea",
   "metadata": {},
   "source": [
    "# Miscellaneous\n",
    "\n",
    "> Miscellaneous functions."
   ]
  },
  {
   "cell_type": "code",
   "execution_count": null,
   "id": "edb679a6",
   "metadata": {},
   "outputs": [],
   "source": [
    "#|export\n",
    "import itertools"
   ]
  },
  {
   "cell_type": "code",
   "execution_count": null,
   "id": "c15dbecc",
   "metadata": {},
   "outputs": [],
   "source": [
    "#|export\n",
    "def kwargs_grid(**kwargs):\n",
    "    \"Returns a generator with all combinations of kwargs\"\n",
    "    return (dict(zip(kwargs.keys(), v)) for v in itertools.product(*kwargs.values()))"
   ]
  },
  {
   "cell_type": "code",
   "execution_count": null,
   "id": "c7314826",
   "metadata": {},
   "outputs": [
    {
     "data": {
      "text/plain": [
       "[{'size': (224, 224), 'alpha': 0.3, 'apply_tfms': False},\n",
       " {'size': (224, 224), 'alpha': 0.3, 'apply_tfms': True},\n",
       " {'size': (224, 224), 'alpha': 0.7, 'apply_tfms': False},\n",
       " {'size': (224, 224), 'alpha': 0.7, 'apply_tfms': True},\n",
       " {'size': (224, 224), 'alpha': 0.9, 'apply_tfms': False},\n",
       " {'size': (224, 224), 'alpha': 0.9, 'apply_tfms': True},\n",
       " {'size': (512, 512), 'alpha': 0.3, 'apply_tfms': False},\n",
       " {'size': (512, 512), 'alpha': 0.3, 'apply_tfms': True},\n",
       " {'size': (512, 512), 'alpha': 0.7, 'apply_tfms': False},\n",
       " {'size': (512, 512), 'alpha': 0.7, 'apply_tfms': True},\n",
       " {'size': (512, 512), 'alpha': 0.9, 'apply_tfms': False},\n",
       " {'size': (512, 512), 'alpha': 0.9, 'apply_tfms': True}]"
      ]
     },
     "execution_count": null,
     "metadata": {},
     "output_type": "execute_result"
    }
   ],
   "source": [
    "list(kwargs_grid(size=[(224, 224), (512, 512)], alpha=[0.3, 0.7, 0.9], apply_tfms=[False, True]))"
   ]
  },
  {
   "cell_type": "code",
   "execution_count": null,
   "id": "9a366509",
   "metadata": {},
   "outputs": [],
   "source": [
    "#|hide\n",
    "from nbdev import nbdev_export\n",
    "nbdev_export()"
   ]
  },
  {
   "cell_type": "code",
   "execution_count": null,
   "id": "ecc96ffa",
   "metadata": {},
   "outputs": [],
   "source": []
  }
 ],
 "metadata": {
  "kernelspec": {
   "display_name": "Python [conda env:allpolvo]",
   "language": "python",
   "name": "conda-env-allpolvo-py"
  }
 },
 "nbformat": 4,
 "nbformat_minor": 5
}
