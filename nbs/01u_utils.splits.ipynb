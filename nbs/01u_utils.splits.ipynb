{
 "cells": [
  {
   "cell_type": "code",
   "execution_count": null,
   "id": "620a6dca",
   "metadata": {},
   "outputs": [],
   "source": [
    "#|default_exp utils.splits"
   ]
  },
  {
   "cell_type": "markdown",
   "id": "d828c6ea",
   "metadata": {},
   "source": [
    "# Splits\n",
    "\n",
    "> Helper function for splitting data."
   ]
  },
  {
   "cell_type": "code",
   "execution_count": null,
   "id": "d370a16d",
   "metadata": {},
   "outputs": [
    {
     "name": "stderr",
     "output_type": "stream",
     "text": [
      "/home/lgvaz/git/polvo/polvo/utils/logging.py:8: TqdmExperimentalWarning: Using `tqdm.autonotebook.tqdm` in notebook mode. Use `tqdm.tqdm` instead to force console mode (e.g. in jupyter console)\n",
      "  from tqdm.autonotebook import tqdm\n"
     ]
    }
   ],
   "source": [
    "#|export\n",
    "from fastcore.all import *\n",
    "import random as _random\n",
    "from collections import defaultdict\n",
    "from polvo.utils.misc import random_local_seed"
   ]
  },
  {
   "cell_type": "code",
   "execution_count": null,
   "id": "afe0a229",
   "metadata": {},
   "outputs": [],
   "source": [
    "#|export\n",
    "def random(items, probs, seed=None):\n",
    "    # Calculate split indexes\n",
    "    n = len(items)\n",
    "    p = [int(round(prob * n)) for prob in probs]  # convert percentage to absolute and round\n",
    "    p[p.index(max(p))] += n - sum(p)  # adjusts the largest split to ensure the total sum matches the length of items\n",
    "    # Shuffle items with the given seed\n",
    "    with random_local_seed(seed):\n",
    "        shuffled = items[:]\n",
    "        _random.shuffle(shuffled)\n",
    "    # Create cumulative split indexes and perform the split\n",
    "    split_points = [sum(p[:i+1]) for i in range(len(p))]\n",
    "    splits = [shuffled[start:end] for start, end in zip([0] + split_points[:-1], split_points)]\n",
    "    return splits"
   ]
  },
  {
   "cell_type": "code",
   "execution_count": null,
   "id": "d0138019",
   "metadata": {},
   "outputs": [
    {
     "data": {
      "text/plain": [
       "[[6, 9, 3, 5, 7, 1, 4, 2], [8], [0]]"
      ]
     },
     "execution_count": null,
     "metadata": {},
     "output_type": "execute_result"
    }
   ],
   "source": [
    "random(list(range(10)), [0.8, 0.1, 0.1])"
   ]
  },
  {
   "cell_type": "code",
   "execution_count": null,
   "id": "4cb8710f",
   "metadata": {},
   "outputs": [],
   "source": [
    "#|export\n",
    "def from_fn(items, fn):\n",
    "    \"`fn` should return the index for each subset\"\n",
    "    splits = defaultdict(list)\n",
    "    for item in items: splits[fn(item)].append(item)\n",
    "    return list(zip(*sorted(splits.items())))[1]"
   ]
  },
  {
   "cell_type": "code",
   "execution_count": null,
   "id": "38fbed23",
   "metadata": {},
   "outputs": [
    {
     "data": {
      "text/plain": [
       "([5, 6, 7, 8, 9], [0, 1, 2, 3, 4])"
      ]
     },
     "execution_count": null,
     "metadata": {},
     "output_type": "execute_result"
    }
   ],
   "source": [
    "from_fn(list(range(10)), lambda x: 0 if x>4 else 1)"
   ]
  },
  {
   "cell_type": "code",
   "execution_count": null,
   "id": "9a366509",
   "metadata": {},
   "outputs": [],
   "source": [
    "#|hide\n",
    "from nbdev import nbdev_export\n",
    "nbdev_export()"
   ]
  },
  {
   "cell_type": "code",
   "execution_count": null,
   "id": "ecc96ffa",
   "metadata": {},
   "outputs": [],
   "source": []
  }
 ],
 "metadata": {
  "kernelspec": {
   "display_name": "Python [conda env:allpolvo]",
   "language": "python",
   "name": "conda-env-allpolvo-py"
  }
 },
 "nbformat": 4,
 "nbformat_minor": 5
}
