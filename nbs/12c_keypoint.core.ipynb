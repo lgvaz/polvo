{
 "cells": [
  {
   "cell_type": "code",
   "execution_count": null,
   "id": "a6c13673",
   "metadata": {},
   "outputs": [],
   "source": [
    "#| default_exp keypoint.core"
   ]
  },
  {
   "cell_type": "markdown",
   "id": "3873aece",
   "metadata": {},
   "source": [
    "# Keypoint Core\n",
    "\n",
    "> API details."
   ]
  },
  {
   "cell_type": "code",
   "execution_count": null,
   "id": "a8e945b3",
   "metadata": {},
   "outputs": [],
   "source": [
    "#|hide\n",
    "from nbdev.showdoc import *"
   ]
  },
  {
   "cell_type": "code",
   "execution_count": null,
   "id": "a0d4bac4",
   "metadata": {},
   "outputs": [
    {
     "name": "stderr",
     "output_type": "stream",
     "text": [
      "/home/michael/git/polvo/polvo/utils/logging.py:8: TqdmExperimentalWarning: Using `tqdm.autonotebook.tqdm` in notebook mode. Use `tqdm.tqdm` instead to force console mode (e.g. in jupyter console)\n",
      "  from tqdm.autonotebook import tqdm\n"
     ]
    }
   ],
   "source": [
    "#| export\n",
    "from fastcore.all import *\n",
    "import numpy as np\n",
    "import polvo as pv"
   ]
  },
  {
   "cell_type": "code",
   "execution_count": null,
   "id": "f0e01236",
   "metadata": {},
   "outputs": [],
   "source": [
    "#|export\n",
    "class Keypoints:\n",
    "    def __init__(self, points):\n",
    "        if points.ndim != 2: raise ValueError(f'points should be 2-dim [(x1, y1), (x2, y2), ...] but got {points.ndim}-dim')\n",
    "        self.points = points\n",
    "        \n",
    "    @property\n",
    "    def xy_points(self): return self.points\n",
    "        \n",
    "    def accept_visit(self, visitor): return visitor.visit_keypoints(self)\n",
    "    \n",
    "    def normalized(self, imagew, imageh):\n",
    "        scale = np.array([imagew, imageh])\n",
    "        return self.points / scale\n",
    "    \n",
    "    @classmethod\n",
    "    def from_2d(cls, points): return cls(points)\n",
    "    @classmethod\n",
    "    def from_flat(cls, points): return cls(np.reshape(points, (-1, 2)))\n",
    "    \n",
    "    def __repr__(self):\n",
    "        return f\"<{self.__class__.__name__} {self.points}>\""
   ]
  },
  {
   "cell_type": "code",
   "execution_count": null,
   "id": "0d970056",
   "metadata": {},
   "outputs": [],
   "source": [
    "#| hide\n",
    "from nbdev import nbdev_export\n",
    "nbdev_export()"
   ]
  },
  {
   "cell_type": "code",
   "execution_count": null,
   "id": "39e0302a",
   "metadata": {},
   "outputs": [],
   "source": []
  }
 ],
 "metadata": {
  "kernelspec": {
   "display_name": "conda-env-pokev2.1-py",
   "language": "python",
   "name": "conda-env-pokev2.1-py"
  }
 },
 "nbformat": 4,
 "nbformat_minor": 5
}
