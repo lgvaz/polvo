{
 "cells": [
  {
   "cell_type": "code",
   "execution_count": null,
   "id": "423b444d",
   "metadata": {},
   "outputs": [],
   "source": [
    "%load_ext autoreload\n",
    "%autoreload 2"
   ]
  },
  {
   "cell_type": "code",
   "execution_count": null,
   "id": "a6c13673",
   "metadata": {},
   "outputs": [],
   "source": [
    "#|default_exp converter.yolo"
   ]
  },
  {
   "cell_type": "markdown",
   "id": "3873aece",
   "metadata": {},
   "source": [
    "# Yolo converter.\n",
    "\n",
    "> Convert dataset formats."
   ]
  },
  {
   "cell_type": "code",
   "execution_count": null,
   "id": "8a1ff7c3",
   "metadata": {},
   "outputs": [
    {
     "name": "stderr",
     "output_type": "stream",
     "text": [
      "/home/lgvaz/git/polvo/polvo/utils/logging.py:8: TqdmExperimentalWarning: Using `tqdm.autonotebook.tqdm` in notebook mode. Use `tqdm.tqdm` instead to force console mode (e.g. in jupyter console)\n",
      "  from tqdm.autonotebook import tqdm\n"
     ]
    }
   ],
   "source": [
    "#|export\n",
    "from fastcore.all import *\n",
    "import shutil\n",
    "import polvo as pv"
   ]
  },
  {
   "cell_type": "code",
   "execution_count": null,
   "id": "6aad18b5",
   "metadata": {},
   "outputs": [],
   "source": [
    "#|export\n",
    "class YOLO(pv.Visitor):\n",
    "    def convert_dataset(self, save_dir, train_records=None, valid_records=None, test_records=None):\n",
    "        save_dir = Path(save_dir)\n",
    "        if train_records: self.convert_records(pv.mkdir(save_dir/'train'), train_records)\n",
    "        if valid_records: self.convert_records(pv.mkdir(save_dir/'valid'), valid_records)\n",
    "        if test_records: self.convert_records(pv.mkdir(save_dir/'test'), test_records)\n",
    "        \n",
    "    def convert_records(self, save_dir, records):\n",
    "        for record in pv.pbar(records): self.convert_record(save_dir, record)\n",
    "        \n",
    "    def convert_record(self, save_dir, record):\n",
    "        image_dir = pv.mkdir(Path(save_dir)/'images')\n",
    "        ann_dir = pv.mkdir(Path(save_dir)/'labels')\n",
    "        \n",
    "        self._labels, self._bboxes = [], []\n",
    "        self.visit_all(record)\n",
    "        lines = [' '.join(o) for o in pv.safe_zip(self._labels, self._bboxes)]\n",
    "        pv.save_txt('\\n'.join(lines), ann_dir/self._image_file.with_suffix('.txt').name)\n",
    "        shutil.copy(self._image_file.absolute(), image_dir/self._image_file.name)\n",
    "    \n",
    "    def _visit_image_file(self, image_file): \n",
    "        self._w,self._h = pv.image_size(image_file)\n",
    "        self._image_file = image_file\n",
    "    \n",
    "    def _visit_bbox_labelled(self, bbox):\n",
    "        self._labels.append(str(bbox.label.id))\n",
    "        points = bbox.normalized_points(self._w,self._h).flatten()\n",
    "        self._bboxes.append(' '.join(map(str, points)))"
   ]
  },
  {
   "cell_type": "code",
   "execution_count": null,
   "id": "5546a96b",
   "metadata": {},
   "outputs": [],
   "source": [
    "import polvo.bbox as pb"
   ]
  },
  {
   "cell_type": "code",
   "execution_count": null,
   "id": "79606249",
   "metadata": {},
   "outputs": [],
   "source": [
    "image_file = pv.ImageFile(str(pv.test.SEG_IMAGE))\n",
    "class_map = {0: 'a', 1: 'b'}\n",
    "labels = [pv.Label(i, class_map[i]) for i in [0, 1, 1, 0]]\n",
    "bboxes = [pb.BBox.from_xyxy(20, 20, 64, 280),\n",
    "          pb.BBox.from_xywh(10, 72, 478, 72),\n",
    "          pb.BBox.from_relative_xcycwh(.4, .4, .7, .6, 512, 300),\n",
    "          pb.OBBox.from_clockwise(256,175, 100,140, 80)]\n",
    "\n",
    "bboxesl = [pb.BBoxLabeled(bbox, label) for bbox, label in pv.safe_zip(bboxes, labels)]"
   ]
  },
  {
   "cell_type": "code",
   "execution_count": null,
   "id": "568a0479",
   "metadata": {},
   "outputs": [],
   "source": [
    "record = [image_file, *bboxesl]\n",
    "converter = YOLO()\n",
    "converter.convert_record(pv.mkdir('yolo', tmp=True, overwrite=True), record)"
   ]
  },
  {
   "cell_type": "code",
   "execution_count": null,
   "id": "48ea3ea7",
   "metadata": {},
   "outputs": [
    {
     "data": {
      "application/vnd.jupyter.widget-view+json": {
       "model_id": "ad7afc1df6cd474383585cdc20a9db67",
       "version_major": 2,
       "version_minor": 0
      },
      "text/plain": [
       "  0%|          | 0/1 [00:00<?, ?it/s]"
      ]
     },
     "metadata": {},
     "output_type": "display_data"
    }
   ],
   "source": [
    "converter.convert_dataset(pv.mkdir('tmp/yolo', parents=True, overwrite=True), train_records=[record])"
   ]
  },
  {
   "cell_type": "code",
   "execution_count": null,
   "id": "9f84ce3e",
   "metadata": {},
   "outputs": [],
   "source": [
    "#TODO: Figure out better way of testing. Maybe have a method that returns the converted lines separated from saving."
   ]
  },
  {
   "cell_type": "code",
   "execution_count": null,
   "id": "0d970056",
   "metadata": {},
   "outputs": [],
   "source": [
    "#| hide\n",
    "from nbdev import nbdev_export\n",
    "nbdev_export()"
   ]
  }
 ],
 "metadata": {
  "kernelspec": {
   "display_name": "Python [conda env:allpolvo]",
   "language": "python",
   "name": "conda-env-allpolvo-py"
  }
 },
 "nbformat": 4,
 "nbformat_minor": 5
}
