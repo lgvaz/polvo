{
 "cells": [
  {
   "cell_type": "code",
   "execution_count": null,
   "id": "423b444d",
   "metadata": {},
   "outputs": [],
   "source": [
    "%load_ext autoreload\n",
    "%autoreload 2"
   ]
  },
  {
   "cell_type": "code",
   "execution_count": null,
   "id": "a6c13673",
   "metadata": {},
   "outputs": [],
   "source": [
    "#|default_exp converter.yolo"
   ]
  },
  {
   "cell_type": "markdown",
   "id": "3873aece",
   "metadata": {},
   "source": [
    "# Yolo converter.\n",
    "\n",
    "> Convert dataset formats."
   ]
  },
  {
   "cell_type": "code",
   "execution_count": null,
   "id": "8a1ff7c3",
   "metadata": {},
   "outputs": [
    {
     "name": "stderr",
     "output_type": "stream",
     "text": [
      "/home/lgvaz/git/polvo/polvo/utils/logging.py:8: TqdmExperimentalWarning: Using `tqdm.autonotebook.tqdm` in notebook mode. Use `tqdm.tqdm` instead to force console mode (e.g. in jupyter console)\n",
      "  from tqdm.autonotebook import tqdm\n"
     ]
    }
   ],
   "source": [
    "#|export\n",
    "from fastcore.all import *\n",
    "import shutil\n",
    "import polvo as pv"
   ]
  },
  {
   "cell_type": "code",
   "execution_count": null,
   "id": "832aeddc",
   "metadata": {},
   "outputs": [],
   "source": [
    "#|export\n",
    "class YOLO(pv.Visitor):\n",
    "    def convert_dataset(self, save_dir, classes, train=None, valid=None, test=None, n_workers=defaults.cpus):\n",
    "        save_dir = Path(save_dir)\n",
    "        dirs = {}\n",
    "        if train: \n",
    "            train_dir = dirs['train_dir'] = pv.mkdir(save_dir/'train')\n",
    "            self.convert_records(train_dir, train, n_workers=n_workers)\n",
    "        if valid:\n",
    "            valid_dir = dirs['valid_dir'] = pv.mkdir(save_dir/'valid')\n",
    "            self.convert_records(valid_dir, valid, n_workers=n_workers)\n",
    "        if test: \n",
    "            test_dir = dirs['test_dir'] = pv.mkdir(save_dir/'test')\n",
    "            self.convert_records(test_dir, test, n_workers=n_workers)\n",
    "            \n",
    "        yolo_yaml = self.yolo_yaml(classes, save_dir, **dirs)\n",
    "        pv.save_txt(yolo_yaml, save_dir/'dataset.yaml')\n",
    "        \n",
    "    def convert_records(self, save_dir, records, n_workers=defaults.cpus):\n",
    "        image_dir = pv.mkdir(Path(save_dir)/'images')\n",
    "        ann_dir = pv.mkdir(Path(save_dir)/'labels')\n",
    "        parallel(pv.partial(self.convert_record, image_dir=image_dir, ann_dir=ann_dir),\n",
    "                 records, progress=pv.pbar, n_workers=n_workers)\n",
    "        \n",
    "    def convert_record(self, record, image_dir, ann_dir):\n",
    "        self._labels, self._bboxes = [], []\n",
    "        self.visit_all(record)\n",
    "        lines = [' '.join(o) for o in pv.safe_zip(self._labels, self._bboxes)]\n",
    "        pv.save_txt('\\n'.join(lines), ann_dir/self._image_file.with_suffix('.txt').name)\n",
    "        shutil.copy(self._image_file.absolute(), image_dir/self._image_file.name)\n",
    "        \n",
    "    def yolo_yaml(self, class_map, save_dir, train_dir=None, valid_dir=None, test_dir=None):\n",
    "        classes = '\\n'.join([f'  {k}: {v}' for k,v in class_map.items()])\n",
    "        train_str = f\"train: {train_dir.relative_to(save_dir)}\\n\" if train_dir is not None else \"\"\n",
    "        valid_str = f\"val: {valid_dir.relative_to(save_dir)}\\n\" if valid_dir is not None else \"\"\n",
    "        test_str = f\"test: {test_dir.relative_to(save_dir)}\\n\" if test_dir is not None else \"\"\n",
    "        return (\n",
    "            f\"path: {save_dir.absolute()}\\n\"\n",
    "            f\"{train_str}\"\n",
    "            f\"{valid_str}\"\n",
    "            f\"{test_str}\"\n",
    "            f\"names:\\n\"\n",
    "            f\"{classes}\"\n",
    "        )\n",
    "    \n",
    "    def _visit_image_file(self, image_file): \n",
    "        self._w,self._h = pv.image_size(image_file)\n",
    "        self._image_file = image_file\n",
    "    \n",
    "    def _visit_bbox_labelled(self, bbox):\n",
    "        self._labels.append(str(bbox.label.id))\n",
    "        points = bbox.normalized_points(self._w,self._h).flatten()\n",
    "        self._bboxes.append(' '.join(map(str, points)))"
   ]
  },
  {
   "cell_type": "code",
   "execution_count": null,
   "id": "53980008",
   "metadata": {},
   "outputs": [],
   "source": [
    "import polvo.bbox as pb"
   ]
  },
  {
   "cell_type": "code",
   "execution_count": null,
   "id": "61f05c56",
   "metadata": {},
   "outputs": [],
   "source": [
    "image_file = pv.ImageFile(str(pv.test.SEG_IMAGE))\n",
    "class_map = {0: 'a', 1: 'b'}\n",
    "labels = [pv.Label(i, class_map[i]) for i in [0, 1, 1, 0]]\n",
    "bboxes = [pb.BBox.from_xyxy(20, 20, 64, 280),\n",
    "          pb.BBox.from_xywh(10, 72, 478, 72),\n",
    "          pb.BBox.from_relative_xcycwh(.4, .4, .7, .6, 512, 300),\n",
    "          pb.OBBox.from_clockwise(256,175, 100,140, 80)]\n",
    "\n",
    "bboxesl = [pb.BBoxLabeled(bbox, label) for bbox, label in pv.safe_zip(bboxes, labels)]"
   ]
  },
  {
   "cell_type": "code",
   "execution_count": null,
   "id": "e0def7a8",
   "metadata": {},
   "outputs": [],
   "source": [
    "record = [image_file, *bboxesl]\n",
    "converter = YOLO()\n",
    "# converter.convert_record(record)"
   ]
  },
  {
   "cell_type": "code",
   "execution_count": null,
   "id": "0526ec19",
   "metadata": {},
   "outputs": [
    {
     "data": {
      "text/html": [
       "\n",
       "<style>\n",
       "    /* Turns off some styling */\n",
       "    progress {\n",
       "        /* gets rid of default border in Firefox and Opera. */\n",
       "        border: none;\n",
       "        /* Needs to be in here for Safari polyfill so background images work as expected. */\n",
       "        background-size: auto;\n",
       "    }\n",
       "    progress:not([value]), progress:not([value])::-webkit-progress-bar {\n",
       "        background: repeating-linear-gradient(45deg, #7e7e7e, #7e7e7e 10px, #5c5c5c 10px, #5c5c5c 20px);\n",
       "    }\n",
       "    .progress-bar-interrupted, .progress-bar-interrupted::-webkit-progress-bar {\n",
       "        background: #F44336;\n",
       "    }\n",
       "</style>\n"
      ],
      "text/plain": [
       "<IPython.core.display.HTML object>"
      ]
     },
     "metadata": {},
     "output_type": "display_data"
    },
    {
     "data": {
      "text/html": [],
      "text/plain": [
       "<IPython.core.display.HTML object>"
      ]
     },
     "metadata": {},
     "output_type": "display_data"
    },
    {
     "data": {
      "text/html": [
       "\n",
       "<style>\n",
       "    /* Turns off some styling */\n",
       "    progress {\n",
       "        /* gets rid of default border in Firefox and Opera. */\n",
       "        border: none;\n",
       "        /* Needs to be in here for Safari polyfill so background images work as expected. */\n",
       "        background-size: auto;\n",
       "    }\n",
       "    progress:not([value]), progress:not([value])::-webkit-progress-bar {\n",
       "        background: repeating-linear-gradient(45deg, #7e7e7e, #7e7e7e 10px, #5c5c5c 10px, #5c5c5c 20px);\n",
       "    }\n",
       "    .progress-bar-interrupted, .progress-bar-interrupted::-webkit-progress-bar {\n",
       "        background: #F44336;\n",
       "    }\n",
       "</style>\n"
      ],
      "text/plain": [
       "<IPython.core.display.HTML object>"
      ]
     },
     "metadata": {},
     "output_type": "display_data"
    },
    {
     "data": {
      "text/html": [],
      "text/plain": [
       "<IPython.core.display.HTML object>"
      ]
     },
     "metadata": {},
     "output_type": "display_data"
    },
    {
     "data": {
      "text/html": [
       "\n",
       "<style>\n",
       "    /* Turns off some styling */\n",
       "    progress {\n",
       "        /* gets rid of default border in Firefox and Opera. */\n",
       "        border: none;\n",
       "        /* Needs to be in here for Safari polyfill so background images work as expected. */\n",
       "        background-size: auto;\n",
       "    }\n",
       "    progress:not([value]), progress:not([value])::-webkit-progress-bar {\n",
       "        background: repeating-linear-gradient(45deg, #7e7e7e, #7e7e7e 10px, #5c5c5c 10px, #5c5c5c 20px);\n",
       "    }\n",
       "    .progress-bar-interrupted, .progress-bar-interrupted::-webkit-progress-bar {\n",
       "        background: #F44336;\n",
       "    }\n",
       "</style>\n"
      ],
      "text/plain": [
       "<IPython.core.display.HTML object>"
      ]
     },
     "metadata": {},
     "output_type": "display_data"
    },
    {
     "data": {
      "text/html": [],
      "text/plain": [
       "<IPython.core.display.HTML object>"
      ]
     },
     "metadata": {},
     "output_type": "display_data"
    }
   ],
   "source": [
    "converter.convert_dataset(pv.mkdir('tmp/yolo', parents=True, overwrite=True), class_map,\n",
    "                          train=[record]*2,\n",
    "                          valid=[record]*3,\n",
    "                          test=[record]*2,)"
   ]
  },
  {
   "cell_type": "code",
   "execution_count": null,
   "id": "d4a5c45d",
   "metadata": {},
   "outputs": [
    {
     "data": {
      "text/plain": [
       "'path: /home/lgvaz/git/polvo/nbs/root_dir\\ntrain: train_dir\\nnames:\\n  0: a\\n  1: b'"
      ]
     },
     "execution_count": null,
     "metadata": {},
     "output_type": "execute_result"
    }
   ],
   "source": [
    "converter.yolo_yaml(class_map, Path('root_dir'), Path('root_dir/train_dir'))"
   ]
  },
  {
   "cell_type": "code",
   "execution_count": null,
   "id": "0d970056",
   "metadata": {},
   "outputs": [],
   "source": [
    "#| hide\n",
    "from nbdev import nbdev_export\n",
    "nbdev_export()"
   ]
  }
 ],
 "metadata": {
  "kernelspec": {
   "display_name": "conda-env-pokev2.1-py",
   "language": "python",
   "name": "conda-env-pokev2.1-py"
  }
 },
 "nbformat": 4,
 "nbformat_minor": 5
}
